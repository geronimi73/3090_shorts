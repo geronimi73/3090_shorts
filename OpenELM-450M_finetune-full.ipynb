{
 "cells": [
  {
   "cell_type": "markdown",
   "id": "c69cf0af-0e09-48a1-a42a-01c250923ae0",
   "metadata": {},
   "source": [
    "```\n",
    "accelerate==0.29.3\n",
    "bitsandbytes==0.43.1\n",
    "datasets==2.19.0\n",
    "sentence-transformers==2.3.1\n",
    "tokenizers==0.19.1\n",
    "torch==2.2.1\n",
    "transformers==4.40.1\n",
    "trl==0.8.5\n",
    "wandb==0.16.6\n",
    "```"
   ]
  },
  {
   "cell_type": "markdown",
   "id": "ff131b2b-0d37-4c95-8fb3-f481a1b40c04",
   "metadata": {},
   "source": [
    "# Train"
   ]
  },
  {
   "cell_type": "code",
   "execution_count": null,
   "id": "80b9e2b8-29d1-47f3-afa0-3c5d02056dca",
   "metadata": {},
   "outputs": [],
   "source": [
    "from transformers import AutoModelForCausalLM, AutoTokenizer\n",
    "import torch\n",
    "\n",
    "model = AutoModelForCausalLM.from_pretrained(\n",
    "    \"models/OpenELM-450M\", \n",
    "    trust_remote_code=True,\n",
    "    device_map = \"auto\",\n",
    "    torch_dtype = torch.bfloat16,\n",
    ")\n",
    "\n",
    "tokenizer = AutoTokenizer.from_pretrained(\n",
    "    \"meta-llama/Llama-2-7b-hf\", \n",
    "    use_fast=False) "
   ]
  },
  {
   "cell_type": "code",
   "execution_count": null,
   "id": "3b6c62b9-b569-4d38-9987-b17de27be2ad",
   "metadata": {},
   "outputs": [],
   "source": [
    "from transformers import TrainingArguments, set_seed, get_constant_schedule\n",
    "from trl import SFTTrainer, setup_chat_format, DataCollatorForCompletionOnlyLM\n",
    "from datasets import load_dataset\n",
    "import uuid, wandb\n",
    "\n",
    "set_seed(42)\n",
    "lr = 5e-5\n",
    "run_id = f\"OpenELM-450M_LR-{lr}_OA_{str(uuid.uuid4())}\"\n",
    "\n",
    "model, tokenizer = setup_chat_format(model, tokenizer)\n",
    "if tokenizer.pad_token in [None, tokenizer.eos_token]: \n",
    "    tokenizer.pad_token = tokenizer.unk_token\n",
    "\n",
    "dataset = load_dataset(\"g-ronimo/oasst2_top4k_en\")\n",
    "\n",
    "training_arguments = TrainingArguments(\n",
    "    output_dir = f\"out_{run_id}\",\n",
    "    evaluation_strategy = \"steps\",\n",
    "    label_names = [\"labels\"],\n",
    "    per_device_train_batch_size = 8,\n",
    "    gradient_accumulation_steps = 2,\n",
    "    save_steps = 250,\n",
    "    eval_steps = 250,\n",
    "    logging_steps = 1, \n",
    "    learning_rate = lr,\n",
    "    num_train_epochs = 3,\n",
    "    lr_scheduler_type = \"constant\",\n",
    "    optim = 'paged_adamw_8bit',\n",
    "    bf16 = True,\n",
    "    gradient_checkpointing = True,\n",
    "    group_by_length = True,\n",
    ")\n",
    "\n",
    "trainer = SFTTrainer(\n",
    "    model = model,\n",
    "    tokenizer = tokenizer,\n",
    "    train_dataset = dataset[\"train\"],\n",
    "    eval_dataset = dataset['test'],\n",
    "    data_collator = DataCollatorForCompletionOnlyLM(\n",
    "        instruction_template = \"<|im_start|>user\", \n",
    "        response_template = \"<|im_start|>assistant\", \n",
    "        tokenizer = tokenizer, \n",
    "        mlm = False),\n",
    "    max_seq_length = 2048,\n",
    "    dataset_kwargs = dict(add_special_tokens = False),\n",
    "    args = training_arguments,\n",
    ")"
   ]
  },
  {
   "cell_type": "code",
   "execution_count": null,
   "id": "d7ccd127-2e73-4237-b22a-69725d3a7c05",
   "metadata": {},
   "outputs": [],
   "source": [
    "wandb.init(\n",
    "    project = \"OpenELM\", \n",
    "    name = run_id,\n",
    ").log_code(include_fn=lambda path: path.endswith(\".py\") or path.endswith(\".ipynb\"))\n",
    "\n",
    "trainer.train()"
   ]
  },
  {
   "cell_type": "markdown",
   "id": "aa11ee81-56f2-49d7-b525-58fb7b2f664b",
   "metadata": {},
   "source": [
    "# Inference"
   ]
  },
  {
   "cell_type": "code",
   "execution_count": 1,
   "id": "28f01c48-2fa6-44a0-bb06-6ebf3f318a35",
   "metadata": {},
   "outputs": [
    {
     "name": "stderr",
     "output_type": "stream",
     "text": [
      "Special tokens have been added in the vocabulary, make sure the associated word embeddings are fine-tuned or trained.\n"
     ]
    }
   ],
   "source": [
    "from transformers import AutoModelForCausalLM, AutoTokenizer\n",
    "\n",
    "# change me!\n",
    "model_path = \"out/checkpoint-750\"\n",
    "\n",
    "model = AutoModelForCausalLM.from_pretrained(\n",
    "    model_path, \n",
    "    trust_remote_code=True,\n",
    "    device_map=\"auto\"\n",
    ")\n",
    "\n",
    "tokenizer = AutoTokenizer.from_pretrained(\n",
    "    model_path, \n",
    "    use_fast=False) \n",
    "\n",
    "def prompt(question, debug=False, max_new_tokens=500):\n",
    "    messages = [\n",
    "        {\"role\": \"user\", \"content\": question},\n",
    "    ]\n",
    "            \n",
    "    input_tokens = tokenizer.apply_chat_template(\n",
    "        messages, \n",
    "        add_generation_prompt=True,\n",
    "        return_tensors=\"pt\"\n",
    "    ).to(\"cuda\")\n",
    "    output_tokens = model.generate(input_tokens, max_new_tokens=max_new_tokens)\n",
    "\n",
    "    if debug:\n",
    "        for tok in output_tokens[0]:\n",
    "            print(tok, tokenizer.decode(tok))\n",
    "    \n",
    "    output = tokenizer.decode(output_tokens[0], skip_special_tokens=False)\n",
    "    \n",
    "    print(output)"
   ]
  },
  {
   "cell_type": "code",
   "execution_count": 2,
   "id": "0e185b04-e6f6-4d41-bde5-8bdbe34ee8ef",
   "metadata": {},
   "outputs": [
    {
     "name": "stdout",
     "output_type": "stream",
     "text": [
      "<|im_start|> user\n",
      "hello, who are you? <|im_end|> \n",
      " <|im_start|> assistant\n",
      "I am Open Assistant, an open source chatbot developed by the Open Assistant Project. I am designed to be friendly, helpful, and informative. <|im_end|>\n"
     ]
    }
   ],
   "source": [
    "prompt(\"hello, who are you?\")"
   ]
  }
 ],
 "metadata": {
  "kernelspec": {
   "display_name": "Python 3 (ipykernel)",
   "language": "python",
   "name": "python3"
  },
  "language_info": {
   "codemirror_mode": {
    "name": "ipython",
    "version": 3
   },
   "file_extension": ".py",
   "mimetype": "text/x-python",
   "name": "python",
   "nbconvert_exporter": "python",
   "pygments_lexer": "ipython3",
   "version": "3.10.12"
  }
 },
 "nbformat": 4,
 "nbformat_minor": 5
}
