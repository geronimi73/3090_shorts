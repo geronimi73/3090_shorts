{
 "cells": [
  {
   "cell_type": "markdown",
   "id": "be4edde1-39a8-4806-9884-c1044ca75c1d",
   "metadata": {},
   "source": [
    "## Find LR by sweeping \n",
    "Adapted from, inspired by\n",
    "* https://github.com/SwayStar123/reimei/blob/main/best_lr.py\n",
    "* [FastAI LR Finder](https://github.com/fastai/fastai/blob/f4de849baa79b64792ae5e98ef37e5f8fa4be66f/fastai/callback/schedule.py#L174)\n",
    "\n",
    "Code below sweeps (finds) LR for a small diffusion model. You have to adapt it to your model and data. \n",
    "\n",
    "It will give you a plot that gradually goes down and suddenly up. The ideal LR for your model, data and batch size is somewhere before it starts going up."
   ]
  },
  {
   "cell_type": "code",
   "execution_count": 1,
   "id": "0567bc2b-08db-48a9-b168-1d4b2487b6a5",
   "metadata": {},
   "outputs": [],
   "source": [
    "import torch, os\n",
    "from copy import deepcopy\n",
    "from tqdm import tqdm\n",
    "\n",
    "dtype = torch.bfloat16\n",
    "device = \"cuda\" if torch.cuda.is_available() else \"mps\" if torch.mps.is_available() else \"cpu\""
   ]
  },
  {
   "cell_type": "code",
   "execution_count": 2,
   "id": "b2c4f12b-5a5d-4242-b0dd-702b293e6081",
   "metadata": {},
   "outputs": [
    {
     "name": "stderr",
     "output_type": "stream",
     "text": [
      "/home/g/.local/lib/python3.10/site-packages/matplotlib/projections/__init__.py:63: UserWarning: Unable to import Axes3D. This may be due to multiple versions of Matplotlib being installed (e.g. as a system package and as a pip package). As a result, the 3D projection is not available.\n",
      "  warnings.warn(\"Unable to import Axes3D. This may be due to multiple versions of \"\n",
      "You are attempting to use Flash Attention 2.0 with a model not initialized on GPU. Make sure to move the model to GPU after initializing it on CPU with `model.to('cuda')`.\n"
     ]
    }
   ],
   "source": [
    "# SINGLE STEP FUNCTION, adapt single_step() to your model\n",
    "\n",
    "import torch.nn.functional as F\n",
    "\n",
    "from diffusers import AutoencoderDC\n",
    "from transformers import AutoModel, AutoTokenizer\n",
    "from diffusers import SanaTransformer2DModel\n",
    "from utils import (\n",
    "    add_random_noise,\n",
    "    encode_prompt\n",
    ")\n",
    "\n",
    "os.environ[\"TOKENIZERS_PARALLELISM\"] = \"false\"\n",
    "\n",
    "pipeline = dict(\n",
    "    tokenizer = AutoTokenizer.from_pretrained(\"answerdotai/ModernBERT-base\", torch_dtype=dtype),\n",
    "    text_encoder = AutoModel.from_pretrained(\"answerdotai/ModernBERT-base\", torch_dtype=dtype).to(device),\n",
    "    dcae = AutoencoderDC.from_pretrained(\"Efficient-Large-Model/Sana_600M_1024px_diffusers\", subfolder=\"vae\", torch_dtype=dtype).to(device),\n",
    ")\n",
    "\n",
    "def single_step(model, batch):\n",
    "    labels, latents = batch\n",
    "\n",
    "    # embed labels\n",
    "    prompts_emb, prompts_atnmask = encode_prompt(labels, **pipeline, max_length=10)\n",
    "    \n",
    "    # Scale latent and add random amount of noise\n",
    "    latents = latents.to(dtype).to(device)\n",
    "    latents *=  pipeline[\"dcae\"].config[\"scaling_factor\"]\n",
    "    latents_noisy, timestep, noise = add_random_noise(latents)\n",
    "\n",
    "    # noise_pred = velocity\n",
    "    noise_pred = model(\n",
    "        hidden_states = latents_noisy.to(dtype), \n",
    "        encoder_hidden_states = prompts_emb, \n",
    "        encoder_attention_mask = prompts_atnmask,\n",
    "        timestep = timestep, \n",
    "    ).sample\n",
    "\n",
    "    return F.mse_loss(noise_pred, noise - latents)"
   ]
  },
  {
   "cell_type": "code",
   "execution_count": 3,
   "id": "8c817e8c-4731-4c98-8894-fa87460fdc4c",
   "metadata": {},
   "outputs": [],
   "source": [
    "# Sweep LR for a given model and dataloader, this should be quite generic for any model\n",
    "# Note: By default sweeps LR from 1e-6 to 10 \n",
    "# Note: AdamW is optimizer, change to your needs\n",
    "\n",
    "import gc \n",
    "\n",
    "def free_memory():\n",
    "    gc.collect()\n",
    "    torch.cuda.empty_cache()\n",
    "\n",
    "# beta = smoothing factor for the loss\n",
    "def sweep_LR(model, dataloader, ramp=True, init_lr = 1e-6, final_lr = 10, num_steps = 300, beta=0.98):\n",
    "    # work with copy of model\n",
    "    model = deepcopy(model).to(device)\n",
    "    model.train()\n",
    "\n",
    "    free_memory()\n",
    "    optimizer = torch.optim.AdamW(model.parameters(), lr=init_lr)\n",
    "\n",
    "    # Exponential LR multiplier\n",
    "    lr_mult = (final_lr / init_lr) ** (1 / num_steps)\n",
    "    lr = init_lr\n",
    "    \n",
    "    avg_loss, best_loss = 0.0, float(\"inf\")\n",
    "    lrs, losses = [], []\n",
    "    step_count = 0\n",
    "\n",
    "    for batch_idx, batch in enumerate(tqdm(dataloader, desc=f\"sweep_LR, ramp {ramp}\")):\n",
    "        if step_count >= num_steps: break\n",
    "        for param_group in optimizer.param_groups: param_group[\"lr\"] = lr\n",
    "\n",
    "        # loss and step\n",
    "        loss = single_step(model, batch)\n",
    "        optimizer.zero_grad()    \n",
    "        loss.backward()\n",
    "        optimizer.step()\n",
    "    \n",
    "        # Smooth the loss for stability\n",
    "        avg_loss = beta * avg_loss + (1 - beta) * loss.item()\n",
    "        smoothed_loss = avg_loss / (1 - beta ** (batch_idx + 1))\n",
    "    \n",
    "        # Track best loss\n",
    "        if smoothed_loss < best_loss: best_loss = smoothed_loss\n",
    "    \n",
    "        lrs.append(lr)\n",
    "        losses.append(smoothed_loss)\n",
    "    \n",
    "        # Stop if the loss diverges too much\n",
    "        if batch_idx > 1 and smoothed_loss > 4 * best_loss:\n",
    "            print(\"Loss diverged; stopping early.\")\n",
    "            break\n",
    "\n",
    "        if ramp:\n",
    "            lr *= lr_mult\n",
    "        step_count += 1\n",
    "        \n",
    "    return lrs, losses"
   ]
  },
  {
   "cell_type": "code",
   "execution_count": 4,
   "id": "d5f42a67-702b-4dad-ae47-559d0c9b2d30",
   "metadata": {},
   "outputs": [],
   "source": [
    "import matplotlib.pyplot as plt\n",
    "import io\n",
    "from PIL import Image\n",
    "\n",
    "# Plot Sweep data, returns a PIL of plot\n",
    "def visualize_sweeps(lr_sweeps, ylim_bottom = 1.5, ylim_top = 2.6):\n",
    "    \n",
    "    for label, (lr, loss) in lr_sweeps:\n",
    "        plt.plot(lr, loss, label=label)\n",
    "    \n",
    "    plt.xscale(\"log\")\n",
    "    plt.xlabel(\"Learning Rate (log scale)\")\n",
    "    plt.ylabel(\"Smoothed Loss\")\n",
    "    \n",
    "    # Adjust as desired\n",
    "    plt.ylim(bottom=ylim_bottom, top=ylim_top)\n",
    "    plt.title(f\"LR Range Test\")\n",
    "    plt.legend()\n",
    "    \n",
    "    # Convert to PIL Image\n",
    "    buffer = io.BytesIO()\n",
    "    plt.savefig(buffer, format='PNG', bbox_inches='tight', dpi=100)\n",
    "    buffer.seek(0)\n",
    "    pil_image = Image.open(buffer)\n",
    "    \n",
    "    # plt.savefig(f\"lr_search_{model_nickname}_bs-{bs}.png\")\n",
    "    # plt.show()\n",
    "    plt.close()\n",
    "\n",
    "    return pil_image"
   ]
  },
  {
   "cell_type": "code",
   "execution_count": 5,
   "id": "dea31456-846a-48d7-9b3d-b1382bfc0e06",
   "metadata": {},
   "outputs": [
    {
     "data": {
      "application/vnd.jupyter.widget-view+json": {
       "model_id": "862763509c944431a0ba7f4f7db15280",
       "version_major": 2,
       "version_minor": 0
      },
      "text/plain": [
       "Loading dataset shards:   0%|          | 0/33 [00:00<?, ?it/s]"
      ]
     },
     "metadata": {},
     "output_type": "display_data"
    },
    {
     "name": "stderr",
     "output_type": "stream",
     "text": [
      "sweep_LR, ramp True:   1%|▏                            | 68/10009 [00:26<28:01,  5.91it/s]"
     ]
    },
    {
     "name": "stdout",
     "output_type": "stream",
     "text": [
      "Loss diverged; stopping early.\n"
     ]
    },
    {
     "name": "stderr",
     "output_type": "stream",
     "text": [
      "sweep_LR, ramp True:   1%|▏                          | 68/10009 [00:27<1:07:18,  2.46it/s]\n"
     ]
    },
    {
     "data": {
      "application/vnd.jupyter.widget-view+json": {
       "model_id": "19064ed917924986960644bcbbe6e2a7",
       "version_major": 2,
       "version_minor": 0
      },
      "text/plain": [
       "Loading dataset shards:   0%|          | 0/33 [00:00<?, ?it/s]"
      ]
     },
     "metadata": {},
     "output_type": "display_data"
    },
    {
     "name": "stderr",
     "output_type": "stream",
     "text": [
      "sweep_LR, ramp True:   0%|                           | 35/10009 [00:12<1:17:39,  2.14it/s]"
     ]
    },
    {
     "name": "stdout",
     "output_type": "stream",
     "text": [
      "Loss diverged; stopping early.\n"
     ]
    },
    {
     "name": "stderr",
     "output_type": "stream",
     "text": [
      "sweep_LR, ramp True:   0%|                           | 35/10009 [00:13<1:02:07,  2.68it/s]\n"
     ]
    },
    {
     "data": {
      "application/vnd.jupyter.widget-view+json": {
       "model_id": "1c99f2097b9443c29453e508754d7e5d",
       "version_major": 2,
       "version_minor": 0
      },
      "text/plain": [
       "Loading dataset shards:   0%|          | 0/33 [00:00<?, ?it/s]"
      ]
     },
     "metadata": {},
     "output_type": "display_data"
    },
    {
     "name": "stderr",
     "output_type": "stream",
     "text": [
      "sweep_LR, ramp True:   0%|                              | 8/10009 [00:03<51:20,  3.25it/s]"
     ]
    },
    {
     "name": "stdout",
     "output_type": "stream",
     "text": [
      "Loss diverged; stopping early.\n"
     ]
    },
    {
     "name": "stderr",
     "output_type": "stream",
     "text": [
      "sweep_LR, ramp True:   0%|                            | 8/10009 [00:04<1:41:33,  1.64it/s]\n"
     ]
    },
    {
     "data": {
      "image/png": "[encoded data removed]",
      "text/plain": [
       "<PIL.PngImagePlugin.PngImageFile image mode=RGBA size=567x459>"
      ]
     },
     "execution_count": 5,
     "metadata": {},
     "output_type": "execute_result"
    }
   ],
   "source": [
    "# Do the actual sweeping\n",
    "# adapt model loading and dataloader to your needs\n",
    "\n",
    "from utils import SanaDiTS, load_IN1k256px\n",
    "\n",
    "model_nickname = \"Sana-DitS\"\n",
    "model = SanaDiTS().to(dtype)\n",
    "bs = 128\n",
    "# try different numbers of steps, higher gives a smoother profile\n",
    "# steps_list = [400, 200, 100, 50]\n",
    "steps_list = [100, 50, 10]\n",
    "\n",
    "lr_sweeps = []\n",
    "\n",
    "for steps in steps_list:\n",
    "    # fresh dataloader for each sweep\n",
    "    dataloader, _ = load_IN1k256px(batch_size=bs)\n",
    "\n",
    "    # sweep LR for given num of steps\n",
    "    sweep_name = f\"{model_nickname} batch size {bs}, {steps} steps\"\n",
    "    lrs, losses = sweep_LR(model, dataloader, num_steps=steps)\n",
    "    \n",
    "    lr_sweeps.append(\n",
    "        (sweep_name, (lrs, losses))\n",
    "    )\n",
    "\n",
    "plot_pil = visualize_sweeps(lr_sweeps)\n",
    "plot_pil.save(f\"lr_search_{model_nickname}_bs-{bs}.png\")\n",
    "plot_pil"
   ]
  }
 ],
 "metadata": {
  "kernelspec": {
   "display_name": "Python 3 (ipykernel)",
   "language": "python",
   "name": "python3"
  },
  "language_info": {
   "codemirror_mode": {
    "name": "ipython",
    "version": 3
   },
   "file_extension": ".py",
   "mimetype": "text/x-python",
   "name": "python",
   "nbconvert_exporter": "python",
   "pygments_lexer": "ipython3",
   "version": "3.10.12"
  }
 },
 "nbformat": 4,
 "nbformat_minor": 5
}
