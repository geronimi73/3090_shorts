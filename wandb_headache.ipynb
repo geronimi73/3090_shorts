{
 "cells": [
  {
   "cell_type": "markdown",
   "id": "e263ebd2-1f33-4d52-83b7-c589897bc94b",
   "metadata": {},
   "source": [
    "# Downloading images created with `wandb.log`\n",
    ".. is not as obvious or well documented as it should be "
   ]
  },
  {
   "cell_type": "code",
   "execution_count": null,
   "id": "bec18c6e-2357-42fb-adab-41b8dba4f29a",
   "metadata": {},
   "outputs": [],
   "source": [
    "entity=\"g-ronimo\"\n",
    "project=\"project\"\n",
    "run_id=\"run_id\"\n",
    "metric_key = \"images_eval\"   # logged with wandb.log({\"images_eval\": wandb.Image(images_eval), ..})\n",
    "\n",
    "api = wandb.Api()\n",
    "run = api.run(f\"{entity}/{project}/{run_id}\")\n",
    "\n",
    "for i, row in run.history(keys=[metric_key]).iterrows():\n",
    "    # row = Pandas.Series with the logged data\n",
    "    # rowData = dict with keys ['path', 'sha256', 'size', 'width', '_type', 'format', 'height'] if it's a file\n",
    "    rowData = row[metric_key]    \n",
    "    filePath = rowData[\"path\"]\n",
    "    fileType = rowData[\"_type\"]\n",
    "    print(\"downloading\", fileType, filePath)\n",
    "    run.file(filePath).download(exist_ok=True)"
   ]
  }
 ],
 "metadata": {
  "kernelspec": {
   "display_name": "Python 3 (ipykernel)",
   "language": "python",
   "name": "python3"
  },
  "language_info": {
   "codemirror_mode": {
    "name": "ipython",
    "version": 3
   },
   "file_extension": ".py",
   "mimetype": "text/x-python",
   "name": "python",
   "nbconvert_exporter": "python",
   "pygments_lexer": "ipython3",
   "version": "3.12.4"
  }
 },
 "nbformat": 4,
 "nbformat_minor": 5
}
