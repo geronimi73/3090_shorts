{
 "cells": [
  {
   "cell_type": "code",
   "execution_count": null,
   "id": "fbdeb2cb-c50f-4c6d-a40c-ea6cf731d783",
   "metadata": {},
   "outputs": [],
   "source": [
    "from huggingface_hub import snapshot_download\n",
    "\n",
    "snapshot_download(repo_id=\"black-forest-labs/FLUX.1-schnell\", local_dir=\"/home/g/models-2/FLUX.1-schnell\")"
   ]
  }
 ],
 "metadata": {
  "kernelspec": {
   "display_name": "Python 3 (ipykernel)",
   "language": "python",
   "name": "python3"
  },
  "language_info": {
   "codemirror_mode": {
    "name": "ipython",
    "version": 3
   },
   "file_extension": ".py",
   "mimetype": "text/x-python",
   "name": "python",
   "nbconvert_exporter": "python",
   "pygments_lexer": "ipython3",
   "version": "3.10.12"
  }
 },
 "nbformat": 4,
 "nbformat_minor": 5
}
