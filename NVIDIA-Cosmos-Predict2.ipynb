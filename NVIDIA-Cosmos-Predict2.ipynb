{
 "cells": [
  {
   "cell_type": "code",
   "execution_count": null,
   "id": "6e7f13f6-edad-475f-b1f7-f15a57edfaa0",
   "metadata": {},
   "outputs": [],
   "source": [
    "!pip install git+https://github.com/huggingface/diffusers transformers accelerate datasets bitsandbytes"
   ]
  },
  {
   "cell_type": "code",
   "execution_count": null,
   "id": "c1ad27b7-957a-4a63-ab19-ed671677c684",
   "metadata": {},
   "outputs": [],
   "source": [
    "!pip list | egrep \"torch|diffusers|transformers|accelerate\" "
   ]
  },
  {
   "cell_type": "markdown",
   "id": "672e5934-20c7-44ff-a0c2-29a605e2d492",
   "metadata": {},
   "source": [
    "```\n",
    "accelerate                        1.7.0\n",
    "diffusers                         0.34.0.dev0\n",
    "torch                             2.4.1+cu124\n",
    "torchaudio                        2.4.1+cu124\n",
    "torchvision                       0.19.1+cu124\n",
    "transformers                      4.52.4\n",
    "```"
   ]
  },
  {
   "cell_type": "code",
   "execution_count": null,
   "id": "51e77932-01fd-4bc4-801e-b11332c431e7",
   "metadata": {},
   "outputs": [],
   "source": [
    "from huggingface_hub import login\n",
    "\n",
    "hf_token = \"XXX\"\n",
    "login(token=hf_token)"
   ]
  },
  {
   "cell_type": "code",
   "execution_count": null,
   "id": "cac2fce6-6233-4126-8ad5-09f3cd091d80",
   "metadata": {},
   "outputs": [],
   "source": [
    "# source: https://github.com/yiyixuxu/cosmos-guardrail/blob/bcdd61ba485c6f1aaee3661bc9022fdc1183fe8a/src/cosmos_guardrail/cosmos_guardrail.py#L691\n",
    "\n",
    "from typing import Union\n",
    "\n",
    "import numpy as np\n",
    "import torch\n",
    "\n",
    "from diffusers.configuration_utils import ConfigMixin\n",
    "from diffusers.models.modeling_utils import ModelMixin\n",
    "\n",
    "class DummyCosmosSafetyChecker(ModelMixin, ConfigMixin):\n",
    "    def __init__(self) -> None:\n",
    "        super().__init__()\n",
    "\n",
    "        self._dtype = torch.float32\n",
    "\n",
    "    def check_text_safety(self, prompt: str) -> bool:\n",
    "        return True\n",
    "\n",
    "    def check_video_safety(self, frames: np.ndarray) -> np.ndarray:\n",
    "        return frames\n",
    "\n",
    "    def to(self, device: Union[str, torch.device] = None, dtype: torch.dtype = None) -> None:\n",
    "        self._dtype = dtype\n",
    "\n",
    "    @property\n",
    "    def device(self) -> torch.device:\n",
    "        return torch.device(\"cuda\")\n",
    "\n",
    "    @property\n",
    "    def dtype(self) -> torch.dtype:\n",
    "        return self._dtype"
   ]
  },
  {
   "cell_type": "markdown",
   "id": "278c7bf2-3bcc-4870-a881-01bf13ca5d7e",
   "metadata": {},
   "source": [
    "# Text-to-Image\n",
    "runs on an 24GB VRAM GPU"
   ]
  },
  {
   "cell_type": "code",
   "execution_count": null,
   "id": "7c609c20-9913-4ce4-99d8-a4dc62fb12e1",
   "metadata": {},
   "outputs": [],
   "source": [
    "import torch\n",
    "from diffusers import Cosmos2TextToImagePipeline\n",
    "\n",
    "model_id = \"nvidia/Cosmos-Predict2-2B-Text2Image\"\n",
    "\n",
    "pipe = Cosmos2TextToImagePipeline.from_pretrained(\n",
    "    model_id, \n",
    "    torch_dtype=torch.bfloat16,\n",
    "    safety_checker=DummyCosmosSafetyChecker(),\n",
    ").to(\"cuda\")"
   ]
  },
  {
   "cell_type": "code",
   "execution_count": null,
   "id": "f536ff43-48cb-43bc-a0eb-4cb8876c6130",
   "metadata": {},
   "outputs": [],
   "source": [
    "prompt = \"A close-up shot captures a vibrant yellow scrubber vigorously working on a grimy plate, its bristles moving in circular motions to lift stubborn grease and food residue. The dish, once covered in remnants of a hearty meal, gradually reveals its original glossy surface. Suds form and bubble around the scrubber, creating a satisfying visual of cleanliness in progress. The sound of scrubbing fills the air, accompanied by the gentle clinking of the dish against the sink. As the scrubber continues its task, the dish transforms, gleaming under the bright kitchen lights, symbolizing the triumph of cleanliness over mess.\"\n",
    "negative_prompt = \"The video captures a series of frames showing ugly scenes, static with no motion, motion blur, over-saturation, shaky footage, low resolution, grainy texture, pixelated images, poorly lit areas, underexposed and overexposed scenes, poor color balance, washed out colors, choppy sequences, jerky movements, low frame rate, artifacting, color banding, unnatural transitions, outdated special effects, fake elements, unconvincing visuals, poorly edited content, jump cuts, visual noise, and flickering. Overall, the video is of poor quality.\"\n",
    "\n",
    "output = pipe(\n",
    "    prompt=prompt, \n",
    "    negative_prompt=negative_prompt,\n",
    "    num_inference_steps = 35,\n",
    "    generator=torch.Generator().manual_seed(42)\n",
    ").images[0]\n",
    "\n",
    "output"
   ]
  },
  {
   "cell_type": "markdown",
   "id": "b7dccdbc-81f1-4706-836e-fa6f85c0c127",
   "metadata": {},
   "source": [
    "## Explore number of steps"
   ]
  },
  {
   "cell_type": "code",
   "execution_count": null,
   "id": "27b802e8-3bf8-4ddd-b63c-6b033ca35364",
   "metadata": {},
   "outputs": [],
   "source": [
    "from PIL import Image, ImageDraw, ImageFont\n",
    "import platform\n",
    "\n",
    "def make_grid(images, rows=1, cols=None):\n",
    "    if cols is None: cols = len(images)\n",
    "    w, h = images[0].size\n",
    "    grid = Image.new('RGB', size=(cols*w, rows*h))\n",
    "    for i, image in enumerate(images):\n",
    "        grid.paste(image, box=(i%cols*w, i//cols*h))\n",
    "    return grid\n",
    "\n",
    "def pil_add_text(image, text, position=None, font_size=None, font_color=(255, 255, 255), \n",
    "                       font_path=None, stroke_width=1, stroke_fill=(0, 0, 0)):\n",
    "    if font_path is None: \n",
    "        if platform.system() == \"Darwin\":\n",
    "            font_path = \"Times.ttc\"\n",
    "        else:\n",
    "            font_path = \"DejaVuSans.ttf\"\n",
    "    w, h = image.size\n",
    "    if position is None: position = (w//10, h//10)\n",
    "    if font_size is None: font_size = round(h*0.1)\n",
    "    img_copy = image.copy()\n",
    "    draw = ImageDraw.Draw(img_copy)\n",
    "    font = ImageFont.truetype(font_path, font_size)\n",
    "\n",
    "    draw.text(\n",
    "        position,\n",
    "        text,\n",
    "        font=font,\n",
    "        fill=font_color,\n",
    "        stroke_width=stroke_width,\n",
    "        stroke_fill=stroke_fill\n",
    "    )\n",
    "    \n",
    "    return img_copy\n"
   ]
  },
  {
   "cell_type": "code",
   "execution_count": null,
   "id": "54ebb0e5-7903-49c4-86b0-e4d061e0f975",
   "metadata": {},
   "outputs": [],
   "source": [
    "from tqdm import tqdm \n",
    "\n",
    "images = [\n",
    "    pil_add_text(\n",
    "        pipe(\n",
    "            prompt=prompt, \n",
    "            negative_prompt=negative_prompt,\n",
    "            num_inference_steps = steps,\n",
    "            generator=torch.Generator().manual_seed(42)\n",
    "        ).images[0],\n",
    "        f\"{steps} steps\",\n",
    "        position = (10,100),\n",
    "        stroke_width = 5,\n",
    "    )\n",
    "    for steps in [5, 10, 20, 35, 50]\n",
    "]"
   ]
  },
  {
   "cell_type": "code",
   "execution_count": null,
   "id": "b2fd7517-05a4-49ca-9f5d-040f3311ee30",
   "metadata": {},
   "outputs": [],
   "source": [
    "make_grid(images)"
   ]
  },
  {
   "cell_type": "markdown",
   "id": "d00e6c36-3c9c-4ae0-bf04-88760557c345",
   "metadata": {},
   "source": [
    "## Prompt explore"
   ]
  },
  {
   "cell_type": "code",
   "execution_count": null,
   "id": "4b60518f-bf3d-4c9b-8dfe-254f5b222a61",
   "metadata": {},
   "outputs": [],
   "source": [
    "from datasets import load_dataset\n",
    "import random\n",
    "\n",
    "def load_prompts(n=10, seed=42):\n",
    "    dataset = load_dataset(\"k-mktr/improved-flux-prompts-photoreal-portrait\")\n",
    "    \n",
    "    random.seed(seed)\n",
    "    random_indices = random.sample(range(len(dataset['train'])), n)\n",
    "    random_prompts = [dataset['train'][i]['prompt'] for i in random_indices]\n",
    "\n",
    "    return random_prompts\n",
    "\n",
    "prompts = load_prompts()"
   ]
  },
  {
   "cell_type": "code",
   "execution_count": null,
   "id": "7631e9f2-2d06-4f6f-aeea-e4887d3832e7",
   "metadata": {},
   "outputs": [],
   "source": [
    "from tqdm import tqdm \n",
    "\n",
    "images = [\n",
    "    pil_add_text(\n",
    "        pipe(\n",
    "            prompt=prompt, \n",
    "            negative_prompt=negative_prompt,\n",
    "            num_inference_steps = 35,\n",
    "            generator=torch.Generator().manual_seed(42)\n",
    "        ).images[0],\n",
    "        str(i),\n",
    "        position = (10, 10),\n",
    "        stroke_width = 5,\n",
    "    )\n",
    "    for i,prompt in enumerate(tqdm(prompts))\n",
    "]"
   ]
  },
  {
   "cell_type": "code",
   "execution_count": null,
   "id": "9aebd6ed-f19f-4622-b36d-ba1b8e5c4931",
   "metadata": {},
   "outputs": [],
   "source": [
    "make_grid(images, rows=2, cols=5).save(\"gallery.png\")"
   ]
  },
  {
   "cell_type": "markdown",
   "id": "016e3d0b-5419-4d08-a71c-02140e8c87ac",
   "metadata": {},
   "source": [
    "## 4bit Inference"
   ]
  },
  {
   "cell_type": "code",
   "execution_count": null,
   "id": "5485f284-cdda-4045-90ae-a3e43a9832d8",
   "metadata": {},
   "outputs": [],
   "source": [
    "import torch\n",
    "from diffusers import Cosmos2TextToImagePipeline\n",
    "from diffusers.quantizers import PipelineQuantizationConfig\n",
    "\n",
    "pipeline_quant_config = PipelineQuantizationConfig(\n",
    "    quant_backend=\"bitsandbytes_4bit\",\n",
    "    quant_kwargs={\"load_in_4bit\": True, \"bnb_4bit_quant_type\": \"nf4\", \"bnb_4bit_compute_dtype\": torch.bfloat16},\n",
    "    components_to_quantize=[\"transformer\", \"text_encoder\"],\n",
    ")\n",
    "\n",
    "pipe = Cosmos2TextToImagePipeline.from_pretrained(\n",
    "    \"nvidia/Cosmos-Predict2-2B-Text2Image\", \n",
    "    torch_dtype=torch.bfloat16,\n",
    "    quantization_config=pipeline_quant_config,\n",
    "    safety_checker=DummyCosmosSafetyChecker(),\n",
    ").to(\"cuda\")\n"
   ]
  },
  {
   "cell_type": "code",
   "execution_count": null,
   "id": "5c6a3a1a-af63-4641-a1d9-c31f9a9b6e71",
   "metadata": {},
   "outputs": [],
   "source": [
    "prompt = \"A close-up shot captures a vibrant yellow scrubber vigorously working on a grimy plate, its bristles moving in circular motions to lift stubborn grease and food residue. The dish, once covered in remnants of a hearty meal, gradually reveals its original glossy surface. Suds form and bubble around the scrubber, creating a satisfying visual of cleanliness in progress. The sound of scrubbing fills the air, accompanied by the gentle clinking of the dish against the sink. As the scrubber continues its task, the dish transforms, gleaming under the bright kitchen lights, symbolizing the triumph of cleanliness over mess.\"\n",
    "negative_prompt = \"The video captures a series of frames showing ugly scenes, static with no motion, motion blur, over-saturation, shaky footage, low resolution, grainy texture, pixelated images, poorly lit areas, underexposed and overexposed scenes, poor color balance, washed out colors, choppy sequences, jerky movements, low frame rate, artifacting, color banding, unnatural transitions, outdated special effects, fake elements, unconvincing visuals, poorly edited content, jump cuts, visual noise, and flickering. Overall, the video is of poor quality.\"\n",
    "\n",
    "output = pipe(\n",
    "    prompt=prompt, \n",
    "    negative_prompt=negative_prompt,\n",
    "    num_inference_steps = 35,\n",
    "    generator=torch.Generator().manual_seed(42)\n",
    ").images[0]\n",
    "\n",
    "output"
   ]
  },
  {
   "cell_type": "markdown",
   "id": "d507bedd-7f15-487b-b021-b97c589b8b6b",
   "metadata": {},
   "source": [
    "# Image-to-Video¶"
   ]
  },
  {
   "cell_type": "markdown",
   "id": "033a91f5-fdde-4692-99c4-876492bf401d",
   "metadata": {},
   "source": [
    "```\n",
    "accelerate                1.7.0\n",
    "diffusers                 0.34.0.dev0\n",
    "pytorch-triton            3.3.0+git96316ce5\n",
    "torch                     2.8.0.dev20250319+cu128\n",
    "torchaudio                2.6.0.dev20250319+cu128\n",
    "torchvision               0.22.0.dev20250319+cu128\n",
    "transformers              4.52.4\n",
    "```"
   ]
  },
  {
   "cell_type": "code",
   "execution_count": null,
   "id": "a55356a8-2544-47d5-a1f8-abfa30f2752d",
   "metadata": {},
   "outputs": [],
   "source": [
    "!pip install opencv-python imageio imageio-ffmpeg"
   ]
  },
  {
   "cell_type": "code",
   "execution_count": null,
   "id": "2fed677f-1ffd-4b8f-bf45-ae7dd20480af",
   "metadata": {},
   "outputs": [],
   "source": [
    "import torch\n",
    "from diffusers import Cosmos2VideoToWorldPipeline\n",
    "from diffusers.utils import export_to_video, load_image\n",
    "\n",
    "# Available checkpoints: nvidia/Cosmos-Predict2-2B-Video2World, nvidia/Cosmos-Predict2-14B-Video2World\n",
    "model_id = \"nvidia/Cosmos-Predict2-2B-Video2World\"\n",
    "pipe = Cosmos2VideoToWorldPipeline.from_pretrained(\n",
    "    model_id, \n",
    "    torch_dtype=torch.bfloat16,\n",
    "    safety_checker=DummyCosmosSafetyChecker(),\n",
    ").to(\"cuda\")"
   ]
  },
  {
   "cell_type": "code",
   "execution_count": null,
   "id": "3cc13c1e-0b88-42be-a7b5-1763f44c069c",
   "metadata": {},
   "outputs": [],
   "source": [
    "prompt = \"A close-up shot captures a vibrant yellow scrubber vigorously working on a grimy plate, its bristles moving in circular motions to lift stubborn grease and food residue. The dish, once covered in remnants of a hearty meal, gradually reveals its original glossy surface. Suds form and bubble around the scrubber, creating a satisfying visual of cleanliness in progress. The sound of scrubbing fills the air, accompanied by the gentle clinking of the dish against the sink. As the scrubber continues its task, the dish transforms, gleaming under the bright kitchen lights, symbolizing the triumph of cleanliness over mess.\"\n",
    "negative_prompt = \"The video captures a series of frames showing ugly scenes, static with no motion, motion blur, over-saturation, shaky footage, low resolution, grainy texture, pixelated images, poorly lit areas, underexposed and overexposed scenes, poor color balance, washed out colors, choppy sequences, jerky movements, low frame rate, artifacting, color banding, unnatural transitions, outdated special effects, fake elements, unconvincing visuals, poorly edited content, jump cuts, visual noise, and flickering. Overall, the video is of poor quality.\"\n",
    "image = load_image(\n",
    "    \"https://huggingface.co/datasets/huggingface/documentation-images/resolve/main/diffusers/yellow-scrubber.png\"\n",
    ")\n",
    "\n",
    "video = pipe(\n",
    "    image=image, prompt=prompt, negative_prompt=negative_prompt, generator=torch.Generator().manual_seed(1),\n",
    ").frames[0]\n",
    "export_to_video(video, \"output.mp4\", fps=16)"
   ]
  },
  {
   "cell_type": "markdown",
   "id": "decf8927-9a34-40c9-8263-d239ce16d8d3",
   "metadata": {},
   "source": [
    "## More"
   ]
  },
  {
   "cell_type": "code",
   "execution_count": null,
   "id": "3a2c78f1-91c7-43a3-b6c8-e1ee34552b15",
   "metadata": {},
   "outputs": [],
   "source": [
    "from diffusers.utils import load_image\n",
    "\n",
    "image = load_image(\"https://pbs.twimg.com/media/Cobgkh1XEAA7ttg?format=jpg&name=small\")\n",
    "image"
   ]
  },
  {
   "cell_type": "code",
   "execution_count": null,
   "id": "30389b9a-4c6a-4dfd-acda-092557c22804",
   "metadata": {},
   "outputs": [],
   "source": [
    "prompt = \"In a rustic backyard, two cats are on a wooden deck. The gray tabby sits attentively, gazing upwards, while a black cat playfully approaches, sticking out its tongue. They interact, exploring the deck together, their tails twitching with excitement. As they leap and chase each other, sunlight filters through the trees, casting a warm glow on the scene. The video ends with both cats sitting side by side, content and curious.\"\n",
    "negative_prompt = \"The video captures a series of frames showing ugly scenes, static with no motion, motion blur, over-saturation, shaky footage, low resolution, grainy texture, pixelated images, poorly lit areas, underexposed and overexposed scenes, poor color balance, washed out colors, choppy sequences, jerky movements, low frame rate, artifacting, color banding, unnatural transitions, outdated special effects, fake elements, unconvincing visuals, poorly edited content, jump cuts, visual noise, and flickering. Overall, the video is of poor quality.\"\n",
    "\n",
    "video = pipe(\n",
    "    image=image, prompt=prompt, negative_prompt=negative_prompt, generator=torch.Generator().manual_seed(1),\n",
    ").frames[0]\n",
    "export_to_video(video, \"output_cats.mp4\", fps=16)"
   ]
  }
 ],
 "metadata": {
  "kernelspec": {
   "display_name": "Python 3 (ipykernel)",
   "language": "python",
   "name": "python3"
  },
  "language_info": {
   "codemirror_mode": {
    "name": "ipython",
    "version": 3
   },
   "file_extension": ".py",
   "mimetype": "text/x-python",
   "name": "python",
   "nbconvert_exporter": "python",
   "pygments_lexer": "ipython3",
   "version": "3.11.10"
  }
 },
 "nbformat": 4,
 "nbformat_minor": 5
}
