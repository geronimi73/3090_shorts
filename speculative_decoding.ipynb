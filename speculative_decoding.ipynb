{
 "cells": [
  {
   "cell_type": "markdown",
   "id": "1ce29cbc-b2f0-454e-ae9a-1c4d9ae7a7f0",
   "metadata": {},
   "source": [
    "# bfloat 16"
   ]
  },
  {
   "cell_type": "code",
   "execution_count": 1,
   "id": "1c7ea19a-4043-4cdb-a300-3c16417287d0",
   "metadata": {},
   "outputs": [
    {
     "data": {
      "application/vnd.jupyter.widget-view+json": {
       "model_id": "58f9f59240d445b9a26d6e13d927f311",
       "version_major": 2,
       "version_minor": 0
      },
      "text/plain": [
       "Loading checkpoint shards:   0%|          | 0/2 [00:00<?, ?it/s]"
      ]
     },
     "metadata": {},
     "output_type": "display_data"
    }
   ],
   "source": [
    "from transformers import AutoModelForCausalLM, AutoTokenizer\n",
    "import torch\n",
    "import json\n",
    "import time\n",
    "\n",
    "\n",
    "model_path = \"models/llama2-7b\"\n",
    "model_ass_path = \"models/TinyLlama-1.1B-intermediate-step-1431k-3T\"\n",
    "\n",
    "tokenizer = AutoTokenizer.from_pretrained(model_path)\n",
    "\n",
    "model = AutoModelForCausalLM.from_pretrained(\n",
    "    model_path,\n",
    "    device_map=\"auto\",\n",
    "    torch_dtype=torch.bfloat16,    \n",
    ")\n",
    "assistant_model = AutoModelForCausalLM.from_pretrained(\n",
    "    model_ass_path,\n",
    "    device_map=\"auto\",\n",
    "    torch_dtype=torch.bfloat16,    \n",
    ")"
   ]
  },
  {
   "cell_type": "code",
   "execution_count": 17,
   "id": "e1be0327-5825-4737-b98f-92fe7d7a4b3b",
   "metadata": {},
   "outputs": [
    {
     "name": "stdout",
     "output_type": "stream",
     "text": [
      "Assistant: Yes, 53.0t/s\n",
      "Assistant: Yes, 53.0t/s\n",
      "Assistant: Yes, 52.0t/s\n",
      "Assistant: No, 43.0t/s\n",
      "Assistant: No, 43.0t/s\n",
      "Assistant: No, 43.0t/s\n"
     ]
    }
   ],
   "source": [
    "prompt = \"Alice and Bob\"\n",
    "\n",
    "inputs = tokenizer(prompt, return_tensors=\"pt\").to(\"cuda\")\n",
    "\n",
    "for am in [assistant_model, None]:\n",
    "    for _ in range(3):\n",
    "        start_time = time.time()\n",
    "        outputs = model.generate(\n",
    "            **inputs, \n",
    "            assistant_model=am,\n",
    "            max_new_tokens=500,\n",
    "            pad_token_id=tokenizer.eos_token_id,\n",
    "        )\n",
    "        timediff=time.time() - start_time\n",
    "        outputs_tokcount=sum([len(tok) for tok in outputs])\n",
    "    \n",
    "        print(f\"Assistant: {'No' if am == None else 'Yes'}, {outputs_tokcount//timediff}t/s\")\n",
    "\n",
    "# tokenizer.batch_decode(outputs, skip_special_tokens=True)"
   ]
  },
  {
   "cell_type": "markdown",
   "id": "2b66ce16-671a-4eef-965e-1ae7b1c37e3b",
   "metadata": {},
   "source": [
    "# assistant in 32 bit"
   ]
  },
  {
   "cell_type": "code",
   "execution_count": 1,
   "id": "e15e52d4-2f98-4600-a1ab-782295c3f83a",
   "metadata": {},
   "outputs": [
    {
     "data": {
      "application/vnd.jupyter.widget-view+json": {
       "model_id": "7a25e671cecd48488b5b015f418d2a42",
       "version_major": 2,
       "version_minor": 0
      },
      "text/plain": [
       "Loading checkpoint shards:   0%|          | 0/2 [00:00<?, ?it/s]"
      ]
     },
     "metadata": {},
     "output_type": "display_data"
    }
   ],
   "source": [
    "from transformers import AutoModelForCausalLM, AutoTokenizer\n",
    "import torch\n",
    "import json\n",
    "import time\n",
    "\n",
    "model_path = \"models/llama2-7b\"\n",
    "model_ass_path = \"models/TinyLlama-1.1B-intermediate-step-1431k-3T\"\n",
    "\n",
    "tokenizer = AutoTokenizer.from_pretrained(model_path)\n",
    "\n",
    "model = AutoModelForCausalLM.from_pretrained(\n",
    "    model_path,\n",
    "    device_map=\"auto\",\n",
    "    torch_dtype=torch.bfloat16,    \n",
    ")\n",
    "assistant_model = AutoModelForCausalLM.from_pretrained(\n",
    "    model_ass_path,\n",
    "    device_map=\"auto\",\n",
    "    # torch_dtype=torch.bfloat16,    \n",
    ")"
   ]
  },
  {
   "cell_type": "code",
   "execution_count": 2,
   "id": "d0f9b492-0cfd-4563-8c94-a851f061ec50",
   "metadata": {},
   "outputs": [
    {
     "name": "stdout",
     "output_type": "stream",
     "text": [
      "Assistant: Yes, 53.0t/s\n",
      "Assistant: Yes, 56.0t/s\n",
      "Assistant: Yes, 57.0t/s\n",
      "Assistant: No, 43.0t/s\n",
      "Assistant: No, 43.0t/s\n",
      "Assistant: No, 43.0t/s\n"
     ]
    }
   ],
   "source": [
    "prompt = \"Alice and Bob\"\n",
    "\n",
    "inputs = tokenizer(prompt, return_tensors=\"pt\").to(\"cuda\")\n",
    "\n",
    "for am in [assistant_model, None]:\n",
    "    for _ in range(3):\n",
    "        start_time = time.time()\n",
    "        outputs = model.generate(\n",
    "            **inputs, \n",
    "            assistant_model=am,\n",
    "            max_new_tokens=500,\n",
    "            pad_token_id=tokenizer.eos_token_id,\n",
    "        )\n",
    "        timediff=time.time() - start_time\n",
    "        outputs_tokcount=sum([len(tok) for tok in outputs])\n",
    "    \n",
    "        print(f\"Assistant: {'No' if am == None else 'Yes'}, {outputs_tokcount//timediff}t/s\")\n",
    "\n",
    "# tokenizer.batch_decode(outputs, skip_special_tokens=True)"
   ]
  }
 ],
 "metadata": {
  "kernelspec": {
   "display_name": "Python 3 (ipykernel)",
   "language": "python",
   "name": "python3"
  },
  "language_info": {
   "codemirror_mode": {
    "name": "ipython",
    "version": 3
   },
   "file_extension": ".py",
   "mimetype": "text/x-python",
   "name": "python",
   "nbconvert_exporter": "python",
   "pygments_lexer": "ipython3",
   "version": "3.10.12"
  }
 },
 "nbformat": 4,
 "nbformat_minor": 5
}
