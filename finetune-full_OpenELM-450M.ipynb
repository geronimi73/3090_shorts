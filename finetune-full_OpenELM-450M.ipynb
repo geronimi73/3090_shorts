{
 "cells": [
  {
   "cell_type": "markdown",
   "id": "ea950a80-4a2f-4a7a-b34e-94a264cbf927",
   "metadata": {},
   "source": [
    "this file was renamed -> https://github.com/geronimi73/3090_shorts/blob/main/nb_OpenELM-450M_finetune-full.ipynb"
   ]
  }
 ],
 "metadata": {
  "kernelspec": {
   "display_name": "Python 3 (ipykernel)",
   "language": "python",
   "name": "python3"
  },
  "language_info": {
   "codemirror_mode": {
    "name": "ipython",
    "version": 3
   },
   "file_extension": ".py",
   "mimetype": "text/x-python",
   "name": "python",
   "nbconvert_exporter": "python",
   "pygments_lexer": "ipython3",
   "version": "3.12.2"
  }
 },
 "nbformat": 4,
 "nbformat_minor": 5
}
