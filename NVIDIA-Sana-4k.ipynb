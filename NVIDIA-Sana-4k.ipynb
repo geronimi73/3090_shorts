{
 "cells": [
  {
   "cell_type": "code",
   "execution_count": 1,
   "id": "1cef79a0-76c9-477e-99df-9412f347feef",
   "metadata": {},
   "outputs": [],
   "source": [
    "!pip install git+https://github.com/huggingface/diffusers\n",
    "!pip install transformers accelerate datasets"
   ]
  },
  {
   "cell_type": "code",
   "execution_count": 2,
   "id": "114a75b1-a13f-4db0-95cb-a20559d74464",
   "metadata": {},
   "outputs": [
    {
     "name": "stderr",
     "output_type": "stream",
     "text": [
      "\n",
      "A mixture of bf16 and non-bf16 filenames will be loaded.\n",
      "Loaded bf16 filenames:\n",
      "[transformer/diffusion_pytorch_model.bf16.safetensors, text_encoder/model.bf16-00001-of-00002.safetensors, vae/diffusion_pytorch_model.bf16.safetensors, text_encoder/model.bf16-00002-of-00002.safetensors]\n",
      "Loaded non-bf16 filenames:\n",
      "[transformer/diffusion_pytorch_model-00002-of-00002.safetensors, transformer/diffusion_pytorch_model-00001-of-00002.safetensors\n",
      "If this behavior is not expected, please check your folder structure.\n"
     ]
    },
    {
     "data": {
      "application/vnd.jupyter.widget-view+json": {
       "model_id": "a1c6c284c5ec403d9d26aca2ad119371",
       "version_major": 2,
       "version_minor": 0
      },
      "text/plain": [
       "Loading pipeline components...:   0%|          | 0/5 [00:00<?, ?it/s]"
      ]
     },
     "metadata": {},
     "output_type": "display_data"
    },
    {
     "data": {
      "application/vnd.jupyter.widget-view+json": {
       "model_id": "5ff849794fc34f5cbfc83fc52621936f",
       "version_major": 2,
       "version_minor": 0
      },
      "text/plain": [
       "Loading checkpoint shards:   0%|          | 0/2 [00:00<?, ?it/s]"
      ]
     },
     "metadata": {},
     "output_type": "display_data"
    },
    {
     "name": "stderr",
     "output_type": "stream",
     "text": [
      "The 'batch_size' argument of HybridCache is deprecated and will be removed in v4.49. Use the more precisely named 'max_batch_size' argument instead.\n",
      "The 'batch_size' attribute of HybridCache is deprecated and will be removed in v4.49. Use the more precisely named 'self.max_batch_size' attribute instead.\n"
     ]
    },
    {
     "data": {
      "application/vnd.jupyter.widget-view+json": {
       "model_id": "cda39064be554ae6acfa6f9c7e6c4809",
       "version_major": 2,
       "version_minor": 0
      },
      "text/plain": [
       "  0%|          | 0/20 [00:00<?, ?it/s]"
      ]
     },
     "metadata": {},
     "output_type": "display_data"
    },
    {
     "data": {
      "application/vnd.jupyter.widget-view+json": {
       "model_id": "948faf8776b14c10b6986430764aaa2d",
       "version_major": 2,
       "version_minor": 0
      },
      "text/plain": [
       "  0%|          | 0/20 [00:00<?, ?it/s]"
      ]
     },
     "metadata": {},
     "output_type": "display_data"
    },
    {
     "data": {
      "application/vnd.jupyter.widget-view+json": {
       "model_id": "56651fb5d95c452bab681d22f3d86df7",
       "version_major": 2,
       "version_minor": 0
      },
      "text/plain": [
       "  0%|          | 0/20 [00:00<?, ?it/s]"
      ]
     },
     "metadata": {},
     "output_type": "display_data"
    }
   ],
   "source": [
    "import torch\n",
    "from diffusers import DiffusionPipeline\n",
    "\n",
    "pipe = DiffusionPipeline.from_pretrained(\n",
    "    \"Efficient-Large-Model/Sana_1600M_4Kpx_BF16_diffusers\", \n",
    "    torch_dtype=torch.bfloat16,\n",
    "    variant=\"bf16\",\n",
    ")\n",
    "pipe.to(\"cuda\" if torch.cuda.is_available() else \"mps\" if torch.mps.is_available() else \"cpu\")\n",
    "\n",
    "# attention fails with bfloat16 due to dtype mismatch\n",
    "pipe.vae.to(torch.float32) \n",
    "\n",
    "# tiled (V)AE, otherwise OOM on 24 GB VRAM\n",
    "# +increase tile_sample_min_{height,width}, default is 448 -> visible arifacts with 4x4k img\n",
    "pipe.vae.enable_tiling(tile_sample_min_height=1024, tile_sample_min_width=1024)\n",
    "\n",
    "for fruit in [\"apple\", \"orange\", \"strawberry\"]:\n",
    "    image = pipe(\n",
    "        prompt=f\"A melting {fruit}\",\n",
    "        height=4096,\n",
    "        width=4096,\n",
    "        guidance_scale=5.0,\n",
    "    )[0]\n",
    "    image[0].save(f\"{fruit}.png\")"
   ]
  }
 ],
 "metadata": {
  "kernelspec": {
   "display_name": "Python 3 (ipykernel)",
   "language": "python",
   "name": "python3"
  },
  "language_info": {
   "codemirror_mode": {
    "name": "ipython",
    "version": 3
   },
   "file_extension": ".py",
   "mimetype": "text/x-python",
   "name": "python",
   "nbconvert_exporter": "python",
   "pygments_lexer": "ipython3",
   "version": "3.12.4"
  }
 },
 "nbformat": 4,
 "nbformat_minor": 5
}
