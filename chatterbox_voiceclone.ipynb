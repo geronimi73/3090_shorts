{
 "cells": [
  {
   "cell_type": "code",
   "execution_count": null,
   "id": "74169b66-da67-4eee-a6b7-370725d796ac",
   "metadata": {
    "scrolled": true
   },
   "outputs": [],
   "source": [
    "!pip3 install --no-deps chatterbox-tts"
   ]
  },
  {
   "cell_type": "code",
   "execution_count": null,
   "id": "737ec119-d281-47d4-8fd0-012effd9ac20",
   "metadata": {},
   "outputs": [],
   "source": [
    "!pip install torchvision conformer s3tokenizer librosa resemble-perth huggingface_hub safetensors transformers diffusers torchaudio einops"
   ]
  },
  {
   "cell_type": "code",
   "execution_count": null,
   "id": "b3116843-da58-4245-bc5f-841a2847ab39",
   "metadata": {},
   "outputs": [],
   "source": [
    "import torchaudio as ta\n",
    "from chatterbox.tts import ChatterboxTTS\n",
    "\n",
    "model = ChatterboxTTS.from_pretrained(device=\"cuda\")\n",
    "\n",
    "text = \"Ezreal and Jinx teamed up with Ahri, Yasuo, and Teemo to take down the enemy's Nexus in an epic late-game pentakill.\"\n",
    "wav = model.generate(text)\n",
    "ta.save(\"test-1.wav\", wav, model.sr)"
   ]
  },
  {
   "cell_type": "code",
   "execution_count": null,
   "id": "30eec67c-2162-45b6-b929-593ecd9dfdf9",
   "metadata": {},
   "outputs": [],
   "source": [
    "# If you want to synthesize with a different voice, specify the audio prompt\n",
    "AUDIO_PROMPT_PATH = \"test-1.wav\"\n",
    "wav = model.generate(\"Hello my name is Gerald\", audio_prompt_path=AUDIO_PROMPT_PATH)\n",
    "ta.save(\"test-2.wav\", wav, model.sr)"
   ]
  },
  {
   "cell_type": "code",
   "execution_count": null,
   "id": "83a3029a-7b5c-48c3-8a93-b1926065cd5b",
   "metadata": {},
   "outputs": [],
   "source": [
    "!pip install yt_dlp"
   ]
  },
  {
   "cell_type": "code",
   "execution_count": null,
   "id": "3718575c-e5be-4d43-9bb2-d34a5bdf45a4",
   "metadata": {},
   "outputs": [],
   "source": [
    "import yt_dlp\n",
    "import os\n",
    "from pathlib import Path\n",
    "\n",
    "def download_youtube_audio(url, output_path=\"./downloads\", audio_format=\"mp3\"):\n",
    "    \"\"\"\n",
    "    Download audio from a YouTube video\n",
    "    \n",
    "    Args:\n",
    "        url (str): YouTube video URL\n",
    "        output_path (str): Directory to save the audio file\n",
    "        audio_format (str): Audio format (mp3, wav, m4a, etc.)\n",
    "    \n",
    "    Returns:\n",
    "        str: Path to the downloaded audio file, or None if download failed\n",
    "    \"\"\"\n",
    "    \n",
    "    # Create output directory if it doesn't exist\n",
    "    Path(output_path).mkdir(parents=True, exist_ok=True)\n",
    "    \n",
    "    # Configure yt-dlp options\n",
    "    ydl_opts = {\n",
    "        'format': 'bestaudio/best',  # Download best quality audio\n",
    "        'outtmpl': f'{output_path}/%(title)s.%(ext)s',  # Output filename template\n",
    "        'postprocessors': [{\n",
    "            'key': 'FFmpegExtractAudio',\n",
    "            'preferredcodec': audio_format,\n",
    "            'preferredquality': '192',  # Audio quality in kbps\n",
    "        }],\n",
    "        'postprocessor_args': [\n",
    "            '-ar', '44100'  # Set sample rate\n",
    "        ],\n",
    "        'prefer_ffmpeg': True,\n",
    "    }\n",
    "    \n",
    "    try:\n",
    "        with yt_dlp.YoutubeDL(ydl_opts) as ydl:\n",
    "            # Get video info first\n",
    "            info = ydl.extract_info(url, download=False)\n",
    "            print(f\"Title: {info.get('title', 'Unknown')}\")\n",
    "            print(f\"Duration: {info.get('duration', 'Unknown')} seconds\")\n",
    "            print(f\"Uploader: {info.get('uploader', 'Unknown')}\")\n",
    "            \n",
    "            # Construct the expected output filename\n",
    "            title = info.get('title', 'Unknown')\n",
    "            # Clean the title for filename (remove invalid characters)\n",
    "            safe_title = \"\".join(c for c in title if c.isalnum() or c in (' ', '-', '_')).rstrip()\n",
    "            expected_filepath = os.path.join(output_path, f\"{safe_title}.{audio_format}\")\n",
    "            \n",
    "            # Download the audio\n",
    "            print(\"Downloading audio...\")\n",
    "            ydl.download([url])\n",
    "            print(\"Download completed successfully!\")\n",
    "            \n",
    "            return info\n",
    "            \n",
    "    except Exception as e:\n",
    "        print(f\"An error occurred: {str(e)}\")\n",
    "        return None\n"
   ]
  },
  {
   "cell_type": "code",
   "execution_count": null,
   "id": "3d2a1d1f-18e0-41cd-97d4-0b7a0f2a295e",
   "metadata": {
    "scrolled": true
   },
   "outputs": [],
   "source": [
    "!apt-get update\n",
    "!apt-get install -y ffmpeg"
   ]
  },
  {
   "cell_type": "code",
   "execution_count": 16,
   "id": "867098f5-bfaf-4e77-8e12-519afbe50059",
   "metadata": {},
   "outputs": [
    {
     "name": "stdout",
     "output_type": "stream",
     "text": [
      "[youtube] Extracting URL: https://www.youtube.com/shorts/jcNzoONhrmE\n",
      "[youtube] jcNzoONhrmE: Downloading webpage\n",
      "[youtube] jcNzoONhrmE: Downloading tv client config\n",
      "[youtube] jcNzoONhrmE: Downloading tv player API JSON\n",
      "[youtube] jcNzoONhrmE: Downloading ios player API JSON\n",
      "[youtube] jcNzoONhrmE: Downloading m3u8 information\n",
      "Title: Trump says he can end Ukraine war in a day\n",
      "Duration: 30 seconds\n",
      "Uploader: Channel 4 News\n",
      "Downloading audio...\n",
      "[youtube] Extracting URL: https://www.youtube.com/shorts/jcNzoONhrmE\n",
      "[youtube] jcNzoONhrmE: Downloading webpage\n",
      "[youtube] jcNzoONhrmE: Downloading tv client config\n",
      "[youtube] jcNzoONhrmE: Downloading tv player API JSON\n",
      "[youtube] jcNzoONhrmE: Downloading ios player API JSON\n",
      "[youtube] jcNzoONhrmE: Downloading m3u8 information\n",
      "[info] jcNzoONhrmE: Downloading 1 format(s): 251\n",
      "[download] Destination: ./my_audio/Trump says he can end Ukraine war in a day.webm\n",
      "[download] 100% of  395.51KiB in 00:00:00 at 3.13MiB/s   \n",
      "[ExtractAudio] Destination: ./my_audio/Trump says he can end Ukraine war in a day.wav\n",
      "Deleting original file ./my_audio/Trump says he can end Ukraine war in a day.webm (pass -k to keep)\n",
      "Download completed successfully!\n"
     ]
    }
   ],
   "source": [
    "video_url = \"https://www.youtube.com/shorts/jcNzoONhrmE\"  # Replace with actual URL\n",
    "dl_info = download_youtube_audio(video_url, output_path=\"./my_audio\", audio_format=\"wav\")"
   ]
  },
  {
   "cell_type": "code",
   "execution_count": 17,
   "id": "eb5e2cd7-16ac-444f-bddd-e3484277c5db",
   "metadata": {},
   "outputs": [
    {
     "data": {
      "text/plain": [
       "('./my_audio/Trump says he can end Ukraine war in a day.wav', True)"
      ]
     },
     "execution_count": 17,
     "metadata": {},
     "output_type": "execute_result"
    }
   ],
   "source": [
    "wav_file = \"./my_audio/\" + dl_info[\"title\"] + \".wav\"\n",
    "wav_file, os.path.exists(wav_file)"
   ]
  },
  {
   "cell_type": "code",
   "execution_count": null,
   "id": "bd7d9b37-ea3c-4aa5-b6a5-9cbeb86bdef5",
   "metadata": {},
   "outputs": [],
   "source": [
    "import torchaudio as ta\n",
    "from chatterbox.tts import ChatterboxTTS\n",
    "\n",
    "model = ChatterboxTTS.from_pretrained(device=\"cuda\")"
   ]
  },
  {
   "cell_type": "code",
   "execution_count": 18,
   "id": "e058cd60-db94-4a44-96bc-e2a0b81c1216",
   "metadata": {},
   "outputs": [
    {
     "name": "stderr",
     "output_type": "stream",
     "text": [
      "/usr/lib/python3.11/contextlib.py:105: FutureWarning: `torch.backends.cuda.sdp_kernel()` is deprecated. In the future, this context manager will be removed. Please see `torch.nn.attention.sdpa_kernel()` for the new context manager, with updated signature.\n",
      "  self.gen = func(*args, **kwds)\n",
      "Sampling:  21%|██        | 207/1000 [00:05<00:19, 39.67it/s]\n"
     ]
    }
   ],
   "source": [
    "text = \"Ezreal and Jinx teamed up with Ahri, Yasuo, and Teemo to take down the enemy's Nexus in an epic late-game pentakill.\"\n",
    "\n",
    "wav = model.generate(\n",
    "    text,\n",
    "    audio_prompt_path=wav_file\n",
    ")\n",
    "ta.save(\"test-4.wav\", wav, model.sr)"
   ]
  },
  {
   "cell_type": "code",
   "execution_count": null,
   "id": "3b924947-7654-4aaf-9c0e-25b7e639ab0e",
   "metadata": {},
   "outputs": [],
   "source": [
    "!pip install ffmpeg-python"
   ]
  },
  {
   "cell_type": "code",
   "execution_count": null,
   "id": "1f2a3a43-cae3-4eb3-ba3d-c06a6dbf46f5",
   "metadata": {},
   "outputs": [],
   "source": [
    "import ffmpeg\n",
    "\n",
    "def wav_to_mp4_ffmpeg(wav_file, mp4_file):\n",
    "    (\n",
    "        ffmpeg\n",
    "        .input(wav_file)\n",
    "        .output(mp4_file)\n",
    "                # , acodec='aac')\n",
    "        .overwrite_output()\n",
    "        .run()\n",
    "    )\n",
    "\n",
    "# Usage\n",
    "wav_to_mp4_ffmpeg(\"test-4.wav\", \"test-4.mp3\")"
   ]
  }
 ],
 "metadata": {
  "kernelspec": {
   "display_name": "Python 3 (ipykernel)",
   "language": "python",
   "name": "python3"
  },
  "language_info": {
   "codemirror_mode": {
    "name": "ipython",
    "version": 3
   },
   "file_extension": ".py",
   "mimetype": "text/x-python",
   "name": "python",
   "nbconvert_exporter": "python",
   "pygments_lexer": "ipython3",
   "version": "3.11.11"
  }
 },
 "nbformat": 4,
 "nbformat_minor": 5
}
