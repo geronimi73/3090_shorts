{
 "cells": [
  {
   "cell_type": "code",
   "execution_count": 1,
   "id": "fab513d8-5b21-4fa8-9d43-920df4532201",
   "metadata": {},
   "outputs": [],
   "source": [
    "# !pip install -U transformers datasets tqdm dotenv"
   ]
  },
  {
   "cell_type": "code",
   "execution_count": 2,
   "id": "cd99ab23-7c66-4c69-a15d-698e0e81e637",
   "metadata": {},
   "outputs": [],
   "source": [
    "import torch, torch.nn as nn\n",
    "from transformers import AutoImageProcessor, AutoModel\n",
    "from PIL import Image"
   ]
  },
  {
   "cell_type": "code",
   "execution_count": 3,
   "id": "e95179e7-b510-4bd6-b633-8737f8f7a567",
   "metadata": {},
   "outputs": [
    {
     "data": {
      "application/vnd.jupyter.widget-view+json": {
       "model_id": "5499a52f72db4d89acfd272fd15d79d9",
       "version_major": 2,
       "version_minor": 0
      },
      "text/plain": [
       "Fetching 1 files:   0%|          | 0/1 [00:00<?, ?it/s]"
      ]
     },
     "metadata": {},
     "output_type": "display_data"
    }
   ],
   "source": [
    "device = \"cuda\" if torch.cuda.is_available() else \"mps\" if torch.mps.is_available() else \"cpu\"\n",
    "\n",
    "model_repo = \"facebook/dinov3-vits16-pretrain-lvd1689m\"\n",
    "processor = AutoImageProcessor.from_pretrained(model_repo)\n",
    "backbone = AutoModel.from_pretrained(model_repo)"
   ]
  },
  {
   "cell_type": "code",
   "execution_count": 4,
   "id": "cf980203-a202-45ac-b5e9-c4ebbc1c2eb4",
   "metadata": {},
   "outputs": [],
   "source": [
    "from utils import load_fooddataset, test_accuracy"
   ]
  },
  {
   "cell_type": "code",
   "execution_count": 5,
   "id": "8bd929d8-e287-4515-8ca3-8446f9266609",
   "metadata": {},
   "outputs": [
    {
     "name": "stdout",
     "output_type": "stream",
     "text": [
      "classifier model has 21.60M parameters (3850 trainable)\n"
     ]
    }
   ],
   "source": [
    "class DinoV3Linear(nn.Module):\n",
    "    def __init__(self, backbone: AutoModel, hidden_size: int, num_classes: int, freeze_backbone: bool = True):\n",
    "        super().__init__()\n",
    "        self.backbone = backbone\n",
    "        if freeze_backbone:\n",
    "            for p in self.backbone.parameters():\n",
    "                p.requires_grad = False\n",
    "            self.backbone.eval()\n",
    "\n",
    "        self.head = nn.Linear(hidden_size, num_classes)\n",
    "\n",
    "    def forward(self, pixel_values):\n",
    "        outputs = self.backbone(pixel_values=pixel_values)\n",
    "        last_hidden = outputs.last_hidden_state\n",
    "        cls = last_hidden[:, 0]\n",
    "        logits = self.head(cls)\n",
    "        return logits\n",
    "\n",
    "    def count_params(self):\n",
    "        total_params = sum(p.numel() for p in self.parameters())\n",
    "        trainable_params = sum(p.numel() for p in self.parameters() if p.requires_grad)\n",
    "        return total_params, trainable_params\n",
    "\n",
    "    @property\n",
    "    def device(self):\n",
    "        return next(self.parameters()).device\n",
    "        \n",
    "# Setup Model\n",
    "hidden_size = getattr(backbone.config, \"hidden_size\", None)\n",
    "model = DinoV3Linear(backbone, hidden_size, num_classes=10, freeze_backbone=True).to(device) \n",
    "total_params, trainable_params = model.count_params()\n",
    "\n",
    "# Setup Optimizer\n",
    "optimizer = torch.optim.Adam(model.parameters(), lr=0.0004)\n",
    "\n",
    "# Load Dataset\n",
    "ds_train, ds_test = load_fooddataset(processor, batch_size_train = 128)\n",
    "\n",
    "print(f\"classifier model has {total_params/1e6:.2f}M parameters ({trainable_params} trainable)\")"
   ]
  },
  {
   "cell_type": "code",
   "execution_count": 6,
   "id": "daeb4cd6-4ff7-4f50-8db1-755b8c2dc8d8",
   "metadata": {},
   "outputs": [
    {
     "name": "stdout",
     "output_type": "stream",
     "text": [
      "step 0 (epoch 0), loss 2.32\n"
     ]
    },
    {
     "name": "stderr",
     "output_type": "stream",
     "text": [
      "Test accuray: 100%|██████████| 21/21 [00:02<00:00,  9.64it/s]\n"
     ]
    },
    {
     "name": "stdout",
     "output_type": "stream",
     "text": [
      "step 0 (epoch 0), accuracy 15.45%\n",
      "step 10 (epoch 0), loss 2.14\n",
      "step 20 (epoch 0), loss 1.91\n",
      "step 30 (epoch 0), loss 1.74\n",
      "step 40 (epoch 0), loss 1.49\n",
      "step 50 (epoch 0), loss 1.41\n",
      "step 60 (epoch 0), loss 1.23\n",
      "step 70 (epoch 0), loss 1.17\n",
      "step 80 (epoch 0), loss 1.02\n",
      "step 90 (epoch 0), loss 0.89\n",
      "step 100 (epoch 1), loss 0.83\n"
     ]
    },
    {
     "name": "stderr",
     "output_type": "stream",
     "text": [
      "Test accuray: 100%|██████████| 21/21 [00:02<00:00,  9.67it/s]\n"
     ]
    },
    {
     "name": "stdout",
     "output_type": "stream",
     "text": [
      "step 100 (epoch 1), accuracy 95.45%\n",
      "step 110 (epoch 1), loss 0.77\n",
      "step 120 (epoch 1), loss 0.63\n",
      "step 130 (epoch 1), loss 0.67\n",
      "step 140 (epoch 1), loss 0.62\n",
      "step 150 (epoch 1), loss 0.57\n",
      "step 160 (epoch 1), loss 0.50\n",
      "step 170 (epoch 1), loss 0.52\n",
      "step 180 (epoch 1), loss 0.48\n",
      "step 190 (epoch 2), loss 0.46\n",
      "step 200 (epoch 2), loss 0.41\n"
     ]
    },
    {
     "name": "stderr",
     "output_type": "stream",
     "text": [
      "Test accuray: 100%|██████████| 21/21 [00:02<00:00,  9.84it/s]\n"
     ]
    },
    {
     "name": "stdout",
     "output_type": "stream",
     "text": [
      "step 200 (epoch 2), accuracy 97.31%\n",
      "step 210 (epoch 2), loss 0.37\n",
      "step 220 (epoch 2), loss 0.37\n",
      "step 230 (epoch 2), loss 0.39\n",
      "step 240 (epoch 2), loss 0.36\n",
      "step 250 (epoch 2), loss 0.27\n",
      "step 260 (epoch 2), loss 0.37\n",
      "step 270 (epoch 2), loss 0.29\n",
      "step 280 (epoch 2), loss 0.30\n",
      "step 290 (epoch 3), loss 0.24\n",
      "step 300 (epoch 3), loss 0.26\n"
     ]
    },
    {
     "name": "stderr",
     "output_type": "stream",
     "text": [
      "Test accuray: 100%|██████████| 21/21 [00:02<00:00, 10.01it/s]\n"
     ]
    },
    {
     "name": "stdout",
     "output_type": "stream",
     "text": [
      "step 300 (epoch 3), accuracy 97.61%\n",
      "step 310 (epoch 3), loss 0.22\n",
      "step 320 (epoch 3), loss 0.29\n",
      "step 330 (epoch 3), loss 0.25\n",
      "step 340 (epoch 3), loss 0.25\n",
      "step 350 (epoch 3), loss 0.21\n",
      "step 360 (epoch 3), loss 0.21\n",
      "step 370 (epoch 3), loss 0.22\n",
      "step 380 (epoch 4), loss 0.19\n",
      "step 390 (epoch 4), loss 0.21\n",
      "step 400 (epoch 4), loss 0.15\n"
     ]
    },
    {
     "name": "stderr",
     "output_type": "stream",
     "text": [
      "Test accuray: 100%|██████████| 21/21 [00:02<00:00,  9.63it/s]\n"
     ]
    },
    {
     "name": "stdout",
     "output_type": "stream",
     "text": [
      "step 400 (epoch 4), accuracy 97.91%\n",
      "step 410 (epoch 4), loss 0.23\n",
      "step 420 (epoch 4), loss 0.15\n",
      "step 430 (epoch 4), loss 0.19\n",
      "step 440 (epoch 4), loss 0.20\n",
      "step 450 (epoch 4), loss 0.21\n",
      "step 460 (epoch 4), loss 0.17\n",
      "step 470 (epoch 4), loss 0.18\n",
      "step 480 (epoch 5), loss 0.17\n",
      "step 490 (epoch 5), loss 0.14\n",
      "step 500 (epoch 5), loss 0.14\n"
     ]
    },
    {
     "name": "stderr",
     "output_type": "stream",
     "text": [
      "Test accuray: 100%|██████████| 21/21 [00:02<00:00,  9.86it/s]\n"
     ]
    },
    {
     "name": "stdout",
     "output_type": "stream",
     "text": [
      "step 500 (epoch 5), accuracy 97.91%\n",
      "step 510 (epoch 5), loss 0.15\n",
      "step 520 (epoch 5), loss 0.14\n",
      "step 530 (epoch 5), loss 0.11\n",
      "step 540 (epoch 5), loss 0.19\n",
      "step 550 (epoch 5), loss 0.12\n",
      "step 560 (epoch 5), loss 0.14\n",
      "step 570 (epoch 6), loss 0.12\n",
      "step 580 (epoch 6), loss 0.19\n",
      "step 590 (epoch 6), loss 0.13\n",
      "step 600 (epoch 6), loss 0.11\n"
     ]
    },
    {
     "name": "stderr",
     "output_type": "stream",
     "text": [
      "Test accuray: 100%|██████████| 21/21 [00:02<00:00,  9.64it/s]\n"
     ]
    },
    {
     "name": "stdout",
     "output_type": "stream",
     "text": [
      "step 600 (epoch 6), accuracy 98.13%\n",
      "step 610 (epoch 6), loss 0.14\n",
      "step 620 (epoch 6), loss 0.12\n",
      "step 630 (epoch 6), loss 0.11\n",
      "step 640 (epoch 6), loss 0.08\n",
      "step 650 (epoch 6), loss 0.13\n",
      "step 660 (epoch 6), loss 0.18\n",
      "step 670 (epoch 7), loss 0.09\n",
      "step 680 (epoch 7), loss 0.09\n",
      "step 690 (epoch 7), loss 0.10\n",
      "step 700 (epoch 7), loss 0.09\n"
     ]
    },
    {
     "name": "stderr",
     "output_type": "stream",
     "text": [
      "Test accuray: 100%|██████████| 21/21 [00:02<00:00,  9.69it/s]\n"
     ]
    },
    {
     "name": "stdout",
     "output_type": "stream",
     "text": [
      "step 700 (epoch 7), accuracy 98.28%\n",
      "step 710 (epoch 7), loss 0.13\n",
      "step 720 (epoch 7), loss 0.10\n",
      "step 730 (epoch 7), loss 0.09\n",
      "step 740 (epoch 7), loss 0.15\n",
      "step 750 (epoch 7), loss 0.10\n",
      "step 760 (epoch 8), loss 0.12\n",
      "step 770 (epoch 8), loss 0.09\n",
      "step 780 (epoch 8), loss 0.15\n",
      "step 790 (epoch 8), loss 0.15\n",
      "step 800 (epoch 8), loss 0.07\n"
     ]
    },
    {
     "name": "stderr",
     "output_type": "stream",
     "text": [
      "Test accuray: 100%|██████████| 21/21 [00:02<00:00,  9.78it/s]\n"
     ]
    },
    {
     "name": "stdout",
     "output_type": "stream",
     "text": [
      "step 800 (epoch 8), accuracy 98.36%\n",
      "step 810 (epoch 8), loss 0.10\n",
      "step 820 (epoch 8), loss 0.11\n",
      "step 830 (epoch 8), loss 0.11\n",
      "step 840 (epoch 8), loss 0.09\n",
      "step 850 (epoch 8), loss 0.07\n",
      "step 860 (epoch 9), loss 0.08\n",
      "step 870 (epoch 9), loss 0.10\n",
      "step 880 (epoch 9), loss 0.13\n",
      "step 890 (epoch 9), loss 0.10\n",
      "step 900 (epoch 9), loss 0.10\n"
     ]
    },
    {
     "name": "stderr",
     "output_type": "stream",
     "text": [
      "Test accuray: 100%|██████████| 21/21 [00:02<00:00,  9.65it/s]\n"
     ]
    },
    {
     "name": "stdout",
     "output_type": "stream",
     "text": [
      "step 900 (epoch 9), accuracy 98.28%\n",
      "step 910 (epoch 9), loss 0.08\n",
      "step 920 (epoch 9), loss 0.08\n",
      "step 930 (epoch 9), loss 0.06\n",
      "step 940 (epoch 9), loss 0.09\n"
     ]
    }
   ],
   "source": [
    "# Training Loop\n",
    "step = 0\n",
    "\n",
    "for epoch in range(10):\n",
    "    for images, labels in ds_train:\n",
    "        images, labels = images.to(device), torch.Tensor(labels).to(device).long()\n",
    "        logits = model(images)\n",
    "        loss = nn.functional.cross_entropy(logits, labels)\n",
    "        loss.backward()\n",
    "        optimizer.step()\n",
    "        optimizer.zero_grad()\n",
    "    \n",
    "        if step % 10 == 0:\n",
    "            print(f\"step {step} (epoch {epoch}), loss {loss.item():.2f}\")\n",
    "        if step % 100 == 0:\n",
    "            model.eval()\n",
    "            acc = test_accuracy(ds_test, model)\n",
    "            print(f\"step {step} (epoch {epoch}), accuracy {acc:.2f}%\")\n",
    "            model.train()\n",
    "    \n",
    "        step += 1\n",
    "        # break"
   ]
  }
 ],
 "metadata": {
  "kernelspec": {
   "display_name": "Python 3 (ipykernel)",
   "language": "python",
   "name": "python3"
  },
  "language_info": {
   "codemirror_mode": {
    "name": "ipython",
    "version": 3
   },
   "file_extension": ".py",
   "mimetype": "text/x-python",
   "name": "python",
   "nbconvert_exporter": "python",
   "pygments_lexer": "ipython3",
   "version": "3.11.11"
  }
 },
 "nbformat": 4,
 "nbformat_minor": 5
}
