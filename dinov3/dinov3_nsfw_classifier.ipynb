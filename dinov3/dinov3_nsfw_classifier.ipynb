{
 "cells": [
  {
   "cell_type": "code",
   "execution_count": 1,
   "id": "fab513d8-5b21-4fa8-9d43-920df4532201",
   "metadata": {},
   "outputs": [],
   "source": [
    "# !pip3 install -U transformers datasets tqdm wandb huggingface_hub"
   ]
  },
  {
   "cell_type": "code",
   "execution_count": 2,
   "id": "cd99ab23-7c66-4c69-a15d-698e0e81e637",
   "metadata": {},
   "outputs": [],
   "source": [
    "import torch, torch.nn as nn\n",
    "from transformers import AutoImageProcessor, AutoModel\n",
    "from PIL import Image\n",
    "from torchvision.utils import make_grid\n",
    "import torchvision.transforms as T\n"
   ]
  },
  {
   "cell_type": "code",
   "execution_count": 3,
   "id": "e95179e7-b510-4bd6-b633-8737f8f7a567",
   "metadata": {},
   "outputs": [
    {
     "data": {
      "application/vnd.jupyter.widget-view+json": {
       "model_id": "b01f8c123db54c9ca3153a0763d0caff",
       "version_major": 2,
       "version_minor": 0
      },
      "text/plain": [
       "Fetching 1 files:   0%|          | 0/1 [00:00<?, ?it/s]"
      ]
     },
     "metadata": {},
     "output_type": "display_data"
    }
   ],
   "source": [
    "device = \"cuda\" if torch.cuda.is_available() else \"mps\" if torch.mps.is_available() else \"cpu\"\n",
    "\n",
    "model_repo = \"facebook/dinov3-vits16-pretrain-lvd1689m\"\n",
    "processor = AutoImageProcessor.from_pretrained(model_repo)\n",
    "backbone = AutoModel.from_pretrained(model_repo)"
   ]
  },
  {
   "cell_type": "code",
   "execution_count": 4,
   "id": "f08afd98-7b15-4b26-b053-53a7cb015eaa",
   "metadata": {},
   "outputs": [],
   "source": [
    "from utils import load_nsfwdataset, test_accuracy, DinoV3Linear"
   ]
  },
  {
   "cell_type": "code",
   "execution_count": 5,
   "id": "8bd929d8-e287-4515-8ca3-8446f9266609",
   "metadata": {},
   "outputs": [
    {
     "data": {
      "application/vnd.jupyter.widget-view+json": {
       "model_id": "cfa32dce789c46258e6d02007d5db78d",
       "version_major": 2,
       "version_minor": 0
      },
      "text/plain": [
       "Resizing SFW images (num_proc=192):   0%|          | 0/4317 [00:00<?, ? examples/s]"
      ]
     },
     "metadata": {},
     "output_type": "display_data"
    },
    {
     "name": "stdout",
     "output_type": "stream",
     "text": [
      "SFW: 4317 images, NSFW: 4289 images\n",
      "classifier model has 21.60M parameters (770 trainable)\n"
     ]
    }
   ],
   "source": [
    "# Setup Model\n",
    "hidden_size = getattr(backbone.config, \"hidden_size\", None)\n",
    "model = DinoV3Linear(backbone, hidden_size, num_classes=2, freeze_backbone=True).to(device) \n",
    "total_params, trainable_params = model.count_params()\n",
    "\n",
    "# Setup Optimizer\n",
    "# optimizer = torch.optim.Adam(model.parameters(), lr=0.00002)\n",
    "optimizer = torch.optim.Adam(model.parameters(), lr=0.00005)\n",
    "\n",
    "# Load Dataset\n",
    "ds_train, ds_test = load_nsfwdataset(processor, batch_size_train = 64)\n",
    "\n",
    "print(f\"classifier model has {total_params/1e6:.2f}M parameters ({trainable_params} trainable)\")"
   ]
  },
  {
   "cell_type": "code",
   "execution_count": 7,
   "id": "05caf4b8-35b1-4063-a759-e29ddbf8ef2f",
   "metadata": {},
   "outputs": [],
   "source": [
    "tensors, labels, images = next(iter(ds_train))\n",
    "# Debug: Save first batch for inspection\n",
    "grid = make_grid([T.ToTensor()(i) for i in images], nrow=8, padding=2, normalize=True)\n",
    "T.ToPILImage()(grid).save(\"zerobatch.jpg\")"
   ]
  },
  {
   "cell_type": "code",
   "execution_count": 8,
   "id": "daeb4cd6-4ff7-4f50-8db1-755b8c2dc8d8",
   "metadata": {},
   "outputs": [
    {
     "name": "stdout",
     "output_type": "stream",
     "text": [
      "step 0 (epoch 0), loss 0.63\n"
     ]
    },
    {
     "name": "stderr",
     "output_type": "stream",
     "text": [
      "Test accuray: 100%|██████████| 27/27 [00:04<00:00,  6.32it/s]\n"
     ]
    },
    {
     "name": "stdout",
     "output_type": "stream",
     "text": [
      "step 0 (epoch 0), test accuracy 62.02 loss 0.66\n",
      "step 10 (epoch 0), loss 0.67\n",
      "step 20 (epoch 0), loss 0.64\n",
      "step 30 (epoch 0), loss 0.63\n",
      "step 40 (epoch 0), loss 0.59\n",
      "step 50 (epoch 0), loss 0.62\n",
      "step 60 (epoch 0), loss 0.59\n",
      "step 70 (epoch 0), loss 0.57\n",
      "step 80 (epoch 0), loss 0.53\n",
      "step 90 (epoch 0), loss 0.54\n",
      "step 100 (epoch 0), loss 0.53\n"
     ]
    },
    {
     "name": "stderr",
     "output_type": "stream",
     "text": [
      "Test accuray: 100%|██████████| 27/27 [00:03<00:00,  8.13it/s]\n"
     ]
    },
    {
     "name": "stdout",
     "output_type": "stream",
     "text": [
      "step 100 (epoch 0), test accuracy 77.24 loss 0.55\n",
      "step 110 (epoch 0), loss 0.51\n",
      "step 120 (epoch 0), loss 0.53\n",
      "step 130 (epoch 1), loss 0.52\n",
      "step 140 (epoch 1), loss 0.48\n",
      "step 150 (epoch 1), loss 0.46\n",
      "step 160 (epoch 1), loss 0.51\n",
      "step 170 (epoch 1), loss 0.50\n",
      "step 180 (epoch 1), loss 0.47\n",
      "step 190 (epoch 1), loss 0.44\n",
      "step 200 (epoch 1), loss 0.45\n"
     ]
    },
    {
     "name": "stderr",
     "output_type": "stream",
     "text": [
      "Test accuray: 100%|██████████| 27/27 [00:03<00:00,  7.86it/s]\n"
     ]
    },
    {
     "name": "stdout",
     "output_type": "stream",
     "text": [
      "step 200 (epoch 1), test accuracy 83.39 loss 0.47\n",
      "step 210 (epoch 1), loss 0.45\n",
      "step 220 (epoch 1), loss 0.49\n",
      "step 230 (epoch 1), loss 0.41\n",
      "step 240 (epoch 1), loss 0.41\n",
      "step 250 (epoch 2), loss 0.49\n",
      "step 260 (epoch 2), loss 0.39\n",
      "step 270 (epoch 2), loss 0.47\n",
      "step 280 (epoch 2), loss 0.39\n",
      "step 290 (epoch 2), loss 0.43\n",
      "step 300 (epoch 2), loss 0.40\n"
     ]
    },
    {
     "name": "stderr",
     "output_type": "stream",
     "text": [
      "Test accuray: 100%|██████████| 27/27 [00:03<00:00,  8.27it/s]\n"
     ]
    },
    {
     "name": "stdout",
     "output_type": "stream",
     "text": [
      "step 300 (epoch 2), test accuracy 87.34 loss 0.42\n",
      "step 310 (epoch 2), loss 0.44\n",
      "step 320 (epoch 2), loss 0.44\n",
      "step 330 (epoch 2), loss 0.34\n",
      "step 340 (epoch 2), loss 0.35\n",
      "step 350 (epoch 2), loss 0.37\n",
      "step 360 (epoch 2), loss 0.36\n",
      "step 370 (epoch 3), loss 0.30\n",
      "step 380 (epoch 3), loss 0.35\n",
      "step 390 (epoch 3), loss 0.40\n",
      "step 400 (epoch 3), loss 0.34\n"
     ]
    },
    {
     "name": "stderr",
     "output_type": "stream",
     "text": [
      "Test accuray: 100%|██████████| 27/27 [00:03<00:00,  8.22it/s]\n"
     ]
    },
    {
     "name": "stdout",
     "output_type": "stream",
     "text": [
      "step 400 (epoch 3), test accuracy 89.55 loss 0.38\n",
      "step 410 (epoch 3), loss 0.32\n",
      "step 420 (epoch 3), loss 0.35\n",
      "step 430 (epoch 3), loss 0.31\n",
      "step 440 (epoch 3), loss 0.39\n",
      "step 450 (epoch 3), loss 0.34\n",
      "step 460 (epoch 3), loss 0.32\n",
      "step 470 (epoch 3), loss 0.38\n",
      "step 480 (epoch 3), loss 0.35\n",
      "step 490 (epoch 4), loss 0.33\n",
      "step 500 (epoch 4), loss 0.29\n"
     ]
    },
    {
     "name": "stderr",
     "output_type": "stream",
     "text": [
      "Test accuray: 100%|██████████| 27/27 [00:03<00:00,  8.16it/s]\n"
     ]
    },
    {
     "name": "stdout",
     "output_type": "stream",
     "text": [
      "step 500 (epoch 4), test accuracy 91.64 loss 0.35\n",
      "step 510 (epoch 4), loss 0.32\n",
      "step 520 (epoch 4), loss 0.33\n",
      "step 530 (epoch 4), loss 0.35\n",
      "step 540 (epoch 4), loss 0.38\n",
      "step 550 (epoch 4), loss 0.32\n",
      "step 560 (epoch 4), loss 0.30\n",
      "step 570 (epoch 4), loss 0.29\n",
      "step 580 (epoch 4), loss 0.27\n",
      "step 590 (epoch 4), loss 0.31\n",
      "step 600 (epoch 4), loss 0.31\n"
     ]
    },
    {
     "name": "stderr",
     "output_type": "stream",
     "text": [
      "Test accuray: 100%|██████████| 27/27 [00:03<00:00,  8.64it/s]\n"
     ]
    },
    {
     "name": "stdout",
     "output_type": "stream",
     "text": [
      "step 600 (epoch 4), test accuracy 93.26 loss 0.31\n",
      "step 610 (epoch 5), loss 0.31\n",
      "step 620 (epoch 5), loss 0.28\n",
      "step 630 (epoch 5), loss 0.33\n",
      "step 640 (epoch 5), loss 0.29\n",
      "step 650 (epoch 5), loss 0.29\n",
      "step 660 (epoch 5), loss 0.30\n",
      "step 670 (epoch 5), loss 0.27\n",
      "step 680 (epoch 5), loss 0.24\n",
      "step 690 (epoch 5), loss 0.29\n",
      "step 700 (epoch 5), loss 0.28\n"
     ]
    },
    {
     "name": "stderr",
     "output_type": "stream",
     "text": [
      "Test accuray: 100%|██████████| 27/27 [00:03<00:00,  8.15it/s]\n"
     ]
    },
    {
     "name": "stdout",
     "output_type": "stream",
     "text": [
      "step 700 (epoch 5), test accuracy 94.19 loss 0.29\n",
      "step 710 (epoch 5), loss 0.27\n",
      "step 720 (epoch 5), loss 0.24\n",
      "step 730 (epoch 5), loss 0.33\n",
      "step 740 (epoch 6), loss 0.26\n",
      "step 750 (epoch 6), loss 0.25\n",
      "step 760 (epoch 6), loss 0.23\n",
      "step 770 (epoch 6), loss 0.25\n",
      "step 780 (epoch 6), loss 0.31\n",
      "step 790 (epoch 6), loss 0.28\n",
      "step 800 (epoch 6), loss 0.27\n"
     ]
    },
    {
     "name": "stderr",
     "output_type": "stream",
     "text": [
      "Test accuray: 100%|██████████| 27/27 [00:03<00:00,  8.30it/s]\n"
     ]
    },
    {
     "name": "stdout",
     "output_type": "stream",
     "text": [
      "step 800 (epoch 6), test accuracy 94.54 loss 0.27\n",
      "step 810 (epoch 6), loss 0.26\n",
      "step 820 (epoch 6), loss 0.28\n",
      "step 830 (epoch 6), loss 0.24\n",
      "step 840 (epoch 6), loss 0.26\n",
      "step 850 (epoch 6), loss 0.24\n",
      "step 860 (epoch 7), loss 0.22\n",
      "step 870 (epoch 7), loss 0.25\n",
      "step 880 (epoch 7), loss 0.27\n",
      "step 890 (epoch 7), loss 0.24\n",
      "step 900 (epoch 7), loss 0.25\n"
     ]
    },
    {
     "name": "stderr",
     "output_type": "stream",
     "text": [
      "Test accuray: 100%|██████████| 27/27 [00:03<00:00,  8.59it/s]\n"
     ]
    },
    {
     "name": "stdout",
     "output_type": "stream",
     "text": [
      "step 900 (epoch 7), test accuracy 94.77 loss 0.25\n",
      "step 910 (epoch 7), loss 0.19\n",
      "step 920 (epoch 7), loss 0.21\n",
      "step 930 (epoch 7), loss 0.24\n",
      "step 940 (epoch 7), loss 0.19\n",
      "step 950 (epoch 7), loss 0.23\n",
      "step 960 (epoch 7), loss 0.24\n",
      "step 970 (epoch 7), loss 0.21\n",
      "step 980 (epoch 8), loss 0.22\n",
      "step 990 (epoch 8), loss 0.22\n",
      "step 1000 (epoch 8), loss 0.23\n"
     ]
    },
    {
     "name": "stderr",
     "output_type": "stream",
     "text": [
      "Test accuray: 100%|██████████| 27/27 [00:03<00:00,  8.61it/s]\n"
     ]
    },
    {
     "name": "stdout",
     "output_type": "stream",
     "text": [
      "step 1000 (epoch 8), test accuracy 95.59 loss 0.24\n",
      "step 1010 (epoch 8), loss 0.25\n",
      "step 1020 (epoch 8), loss 0.20\n",
      "step 1030 (epoch 8), loss 0.25\n",
      "step 1040 (epoch 8), loss 0.22\n",
      "step 1050 (epoch 8), loss 0.29\n",
      "step 1060 (epoch 8), loss 0.24\n",
      "step 1070 (epoch 8), loss 0.18\n",
      "step 1080 (epoch 8), loss 0.18\n",
      "step 1090 (epoch 8), loss 0.19\n",
      "step 1100 (epoch 9), loss 0.26\n"
     ]
    },
    {
     "name": "stderr",
     "output_type": "stream",
     "text": [
      "Test accuray: 100%|██████████| 27/27 [00:03<00:00,  8.77it/s]\n"
     ]
    },
    {
     "name": "stdout",
     "output_type": "stream",
     "text": [
      "step 1100 (epoch 9), test accuracy 95.59 loss 0.23\n",
      "step 1110 (epoch 9), loss 0.17\n",
      "step 1120 (epoch 9), loss 0.22\n",
      "step 1130 (epoch 9), loss 0.23\n",
      "step 1140 (epoch 9), loss 0.18\n",
      "step 1150 (epoch 9), loss 0.16\n",
      "step 1160 (epoch 9), loss 0.18\n",
      "step 1170 (epoch 9), loss 0.22\n",
      "step 1180 (epoch 9), loss 0.19\n",
      "step 1190 (epoch 9), loss 0.21\n",
      "step 1200 (epoch 9), loss 0.18\n"
     ]
    },
    {
     "name": "stderr",
     "output_type": "stream",
     "text": [
      "Test accuray: 100%|██████████| 27/27 [00:03<00:00,  8.92it/s]\n"
     ]
    },
    {
     "name": "stdout",
     "output_type": "stream",
     "text": [
      "step 1200 (epoch 9), test accuracy 95.70 loss 0.21\n",
      "step 1210 (epoch 9), loss 0.23\n"
     ]
    }
   ],
   "source": [
    "# Training Loop\n",
    "step = 0\n",
    "\n",
    "for epoch in range(10):\n",
    "    for images, labels, images_pil in ds_train:\n",
    "        images, labels = images.to(device), torch.Tensor(labels).to(device).long()\n",
    "\n",
    "        # Debug: Save first batch for inspection\n",
    "        if step == 0:\n",
    "            grid = make_grid([T.ToTensor()(i) for i in images_pil], nrow=8, padding=2, normalize=True)\n",
    "            T.ToPILImage()(grid).save(\"zerobatch.jpg\")\n",
    "        \n",
    "        logits = model(images)\n",
    "        loss = nn.functional.cross_entropy(logits, labels)\n",
    "        loss.backward()\n",
    "        optimizer.step()\n",
    "        optimizer.zero_grad()\n",
    "    \n",
    "        if step % 10 == 0:\n",
    "            print(f\"step {step} (epoch {epoch}), loss {loss.item():.2f}\")\n",
    "        if step % 100 == 0:\n",
    "            model.eval()\n",
    "            test_acc, test_loss = test_accuracy(ds_test, model)\n",
    "            print(f\"step {step} (epoch {epoch}), test accuracy {test_acc:.2f} loss {test_loss:.2f}\")\n",
    "            model.train()\n",
    "    \n",
    "        step += 1\n",
    "        # break"
   ]
  },
  {
   "cell_type": "code",
   "execution_count": null,
   "id": "9853d2f3-a7e1-4687-99bf-57fe65cf8e03",
   "metadata": {},
   "outputs": [],
   "source": [
    "from transformers.image_utils import load_image\n",
    "import torch.nn.functional as F\n",
    "\n",
    "# nsfw anime\n",
    "url = \"https://www.cumfaceai.com/anime-large.png\"\n",
    "\n",
    "image = load_image(url)\n",
    "\n",
    "inputs = processor(images=image, return_tensors=\"pt\").to(model.device)\n",
    "with torch.inference_mode():\n",
    "    outputs = model(**inputs)\n",
    "\n",
    "probabilities = F.softmax(outputs, dim=1)\n",
    "probabilities"
   ]
  },
  {
   "cell_type": "code",
   "execution_count": 9,
   "id": "e8529c73-bd7a-470b-8ed1-0689b5d7ef92",
   "metadata": {},
   "outputs": [],
   "source": [
    "torch.save(model.state_dict(), \"dino_v3_linear.pth\")"
   ]
  }
 ],
 "metadata": {
  "kernelspec": {
   "display_name": "Python 3 (ipykernel)",
   "language": "python",
   "name": "python3"
  },
  "language_info": {
   "codemirror_mode": {
    "name": "ipython",
    "version": 3
   },
   "file_extension": ".py",
   "mimetype": "text/x-python",
   "name": "python",
   "nbconvert_exporter": "python",
   "pygments_lexer": "ipython3",
   "version": "3.12.4"
  }
 },
 "nbformat": 4,
 "nbformat_minor": 5
}
