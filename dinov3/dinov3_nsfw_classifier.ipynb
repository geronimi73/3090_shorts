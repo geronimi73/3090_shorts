{
 "cells": [
  {
   "cell_type": "code",
   "execution_count": 1,
   "id": "fab513d8-5b21-4fa8-9d43-920df4532201",
   "metadata": {},
   "outputs": [],
   "source": [
    "# !pip install -U transformers datasets tqdm wandb huggingface_hub"
   ]
  },
  {
   "cell_type": "code",
   "execution_count": 2,
   "id": "cd99ab23-7c66-4c69-a15d-698e0e81e637",
   "metadata": {},
   "outputs": [],
   "source": [
    "import torch, torch.nn as nn\n",
    "from transformers import AutoImageProcessor, AutoModel\n",
    "from PIL import Image\n",
    "from torchvision.utils import make_grid\n",
    "import torchvision.transforms as T\n"
   ]
  },
  {
   "cell_type": "code",
   "execution_count": 3,
   "id": "e95179e7-b510-4bd6-b633-8737f8f7a567",
   "metadata": {},
   "outputs": [
    {
     "data": {
      "application/vnd.jupyter.widget-view+json": {
       "model_id": "bc7d61454b4a4903ab5dcc6a8f6460aa",
       "version_major": 2,
       "version_minor": 0
      },
      "text/plain": [
       "Fetching 1 files:   0%|          | 0/1 [00:00<?, ?it/s]"
      ]
     },
     "metadata": {},
     "output_type": "display_data"
    }
   ],
   "source": [
    "device = \"cuda\" if torch.cuda.is_available() else \"mps\" if torch.mps.is_available() else \"cpu\"\n",
    "\n",
    "model_repo = \"facebook/dinov3-vits16-pretrain-lvd1689m\"\n",
    "processor = AutoImageProcessor.from_pretrained(model_repo)\n",
    "backbone = AutoModel.from_pretrained(model_repo)"
   ]
  },
  {
   "cell_type": "code",
   "execution_count": 4,
   "id": "f08afd98-7b15-4b26-b053-53a7cb015eaa",
   "metadata": {},
   "outputs": [],
   "source": [
    "from utils import load_nsfwdataset, test_accuracy"
   ]
  },
  {
   "cell_type": "code",
   "execution_count": 5,
   "id": "8bd929d8-e287-4515-8ca3-8446f9266609",
   "metadata": {},
   "outputs": [
    {
     "data": {
      "application/vnd.jupyter.widget-view+json": {
       "model_id": "763db8ed55fe404d92597b004b5c3695",
       "version_major": 2,
       "version_minor": 0
      },
      "text/plain": [
       "Resizing SFW images (num_proc=16):   0%|          | 0/4317 [00:00<?, ? examples/s]"
      ]
     },
     "metadata": {},
     "output_type": "display_data"
    },
    {
     "name": "stdout",
     "output_type": "stream",
     "text": [
      "SFW: 4317 images, NSFW: 4289 images\n",
      "classifier model has 21.60M parameters (770 trainable)\n"
     ]
    }
   ],
   "source": [
    "class DinoV3Linear(nn.Module):\n",
    "    def __init__(self, backbone: AutoModel, hidden_size: int, num_classes: int, freeze_backbone: bool = True):\n",
    "        super().__init__()\n",
    "        self.backbone = backbone\n",
    "        if freeze_backbone:\n",
    "            for p in self.backbone.parameters():\n",
    "                p.requires_grad = False\n",
    "            self.backbone.eval()\n",
    "\n",
    "        self.head = nn.Linear(hidden_size, num_classes)\n",
    "\n",
    "    def forward(self, pixel_values):\n",
    "        outputs = self.backbone(pixel_values=pixel_values)\n",
    "        last_hidden = outputs.last_hidden_state\n",
    "        cls = last_hidden[:, 0]\n",
    "        logits = self.head(cls)\n",
    "        return logits\n",
    "\n",
    "    def count_params(self):\n",
    "        total_params = sum(p.numel() for p in self.parameters())\n",
    "        trainable_params = sum(p.numel() for p in self.parameters() if p.requires_grad)\n",
    "        return total_params, trainable_params\n",
    "\n",
    "    @property\n",
    "    def device(self):\n",
    "        return next(self.parameters()).device\n",
    "        \n",
    "# Setup Model\n",
    "hidden_size = getattr(backbone.config, \"hidden_size\", None)\n",
    "model = DinoV3Linear(backbone, hidden_size, num_classes=2, freeze_backbone=True).to(device) \n",
    "total_params, trainable_params = model.count_params()\n",
    "\n",
    "# Setup Optimizer\n",
    "# optimizer = torch.optim.Adam(model.parameters(), lr=0.00002)\n",
    "optimizer = torch.optim.Adam(model.parameters(), lr=0.00005)\n",
    "\n",
    "# Load Dataset\n",
    "ds_train, ds_test = load_nsfwdataset(processor, batch_size_train = 64)\n",
    "\n",
    "print(f\"classifier model has {total_params/1e6:.2f}M parameters ({trainable_params} trainable)\")"
   ]
  },
  {
   "cell_type": "code",
   "execution_count": 6,
   "id": "05caf4b8-35b1-4063-a759-e29ddbf8ef2f",
   "metadata": {},
   "outputs": [],
   "source": [
    "tensors, labels, images = next(iter(ds_train))\n",
    "# Debug: Save first batch for inspection\n",
    "grid = make_grid([T.ToTensor()(i) for i in images], nrow=8, padding=2, normalize=True)\n",
    "T.ToPILImage()(grid).save(\"zerobatch.jpg\")"
   ]
  },
  {
   "cell_type": "code",
   "execution_count": 7,
   "id": "daeb4cd6-4ff7-4f50-8db1-755b8c2dc8d8",
   "metadata": {},
   "outputs": [
    {
     "name": "stdout",
     "output_type": "stream",
     "text": [
      "step 0 (epoch 0), loss 0.81\n"
     ]
    },
    {
     "name": "stderr",
     "output_type": "stream",
     "text": [
      "Test accuray: 100%|██████████| 27/27 [00:02<00:00, 10.60it/s]\n"
     ]
    },
    {
     "name": "stdout",
     "output_type": "stream",
     "text": [
      "step 0 (epoch 0), test accuracy 33.91 loss 0.78\n",
      "step 10 (epoch 0), loss 0.81\n",
      "step 20 (epoch 0), loss 0.73\n",
      "step 30 (epoch 0), loss 0.72\n",
      "step 40 (epoch 0), loss 0.74\n",
      "step 50 (epoch 0), loss 0.69\n",
      "step 60 (epoch 0), loss 0.69\n",
      "step 70 (epoch 0), loss 0.66\n",
      "step 80 (epoch 0), loss 0.66\n",
      "step 90 (epoch 0), loss 0.68\n",
      "step 100 (epoch 0), loss 0.60\n"
     ]
    },
    {
     "name": "stderr",
     "output_type": "stream",
     "text": [
      "Test accuray: 100%|██████████| 27/27 [00:02<00:00,  9.34it/s]\n"
     ]
    },
    {
     "name": "stdout",
     "output_type": "stream",
     "text": [
      "step 100 (epoch 0), test accuracy 65.04 loss 0.64\n",
      "step 110 (epoch 0), loss 0.62\n",
      "step 120 (epoch 0), loss 0.65\n",
      "step 130 (epoch 1), loss 0.60\n",
      "step 140 (epoch 1), loss 0.58\n",
      "step 150 (epoch 1), loss 0.58\n",
      "step 160 (epoch 1), loss 0.53\n",
      "step 170 (epoch 1), loss 0.54\n",
      "step 180 (epoch 1), loss 0.57\n",
      "step 190 (epoch 1), loss 0.58\n",
      "step 200 (epoch 1), loss 0.55\n"
     ]
    },
    {
     "name": "stderr",
     "output_type": "stream",
     "text": [
      "Test accuray: 100%|██████████| 27/27 [00:02<00:00,  9.61it/s]\n"
     ]
    },
    {
     "name": "stdout",
     "output_type": "stream",
     "text": [
      "step 200 (epoch 1), test accuracy 74.10 loss 0.55\n",
      "step 210 (epoch 1), loss 0.57\n",
      "step 220 (epoch 1), loss 0.47\n",
      "step 230 (epoch 1), loss 0.48\n",
      "step 240 (epoch 1), loss 0.53\n",
      "step 250 (epoch 2), loss 0.56\n",
      "step 260 (epoch 2), loss 0.55\n",
      "step 270 (epoch 2), loss 0.47\n",
      "step 280 (epoch 2), loss 0.44\n",
      "step 290 (epoch 2), loss 0.44\n",
      "step 300 (epoch 2), loss 0.43\n"
     ]
    },
    {
     "name": "stderr",
     "output_type": "stream",
     "text": [
      "Test accuray: 100%|██████████| 27/27 [00:02<00:00,  9.86it/s]\n"
     ]
    },
    {
     "name": "stdout",
     "output_type": "stream",
     "text": [
      "step 300 (epoch 2), test accuracy 82.23 loss 0.48\n",
      "step 310 (epoch 2), loss 0.47\n",
      "step 320 (epoch 2), loss 0.45\n",
      "step 330 (epoch 2), loss 0.43\n",
      "step 340 (epoch 2), loss 0.44\n",
      "step 350 (epoch 2), loss 0.45\n",
      "step 360 (epoch 2), loss 0.44\n",
      "step 370 (epoch 3), loss 0.47\n",
      "step 380 (epoch 3), loss 0.41\n",
      "step 390 (epoch 3), loss 0.42\n",
      "step 400 (epoch 3), loss 0.39\n"
     ]
    },
    {
     "name": "stderr",
     "output_type": "stream",
     "text": [
      "Test accuray: 100%|██████████| 27/27 [00:02<00:00,  9.64it/s]\n"
     ]
    },
    {
     "name": "stdout",
     "output_type": "stream",
     "text": [
      "step 400 (epoch 3), test accuracy 85.02 loss 0.43\n",
      "step 410 (epoch 3), loss 0.42\n",
      "step 420 (epoch 3), loss 0.40\n",
      "step 430 (epoch 3), loss 0.40\n",
      "step 440 (epoch 3), loss 0.41\n",
      "step 450 (epoch 3), loss 0.39\n",
      "step 460 (epoch 3), loss 0.42\n",
      "step 470 (epoch 3), loss 0.36\n",
      "step 480 (epoch 3), loss 0.38\n",
      "step 490 (epoch 4), loss 0.40\n",
      "step 500 (epoch 4), loss 0.43\n"
     ]
    },
    {
     "name": "stderr",
     "output_type": "stream",
     "text": [
      "Test accuray: 100%|██████████| 27/27 [00:02<00:00,  9.76it/s]\n"
     ]
    },
    {
     "name": "stdout",
     "output_type": "stream",
     "text": [
      "step 500 (epoch 4), test accuracy 87.80 loss 0.39\n",
      "step 510 (epoch 4), loss 0.42\n",
      "step 520 (epoch 4), loss 0.39\n",
      "step 530 (epoch 4), loss 0.40\n",
      "step 540 (epoch 4), loss 0.35\n",
      "step 550 (epoch 4), loss 0.35\n",
      "step 560 (epoch 4), loss 0.36\n",
      "step 570 (epoch 4), loss 0.37\n",
      "step 580 (epoch 4), loss 0.36\n",
      "step 590 (epoch 4), loss 0.23\n",
      "step 600 (epoch 4), loss 0.36\n"
     ]
    },
    {
     "name": "stderr",
     "output_type": "stream",
     "text": [
      "Test accuray: 100%|██████████| 27/27 [00:02<00:00,  9.11it/s]\n"
     ]
    },
    {
     "name": "stdout",
     "output_type": "stream",
     "text": [
      "step 600 (epoch 4), test accuracy 89.31 loss 0.36\n",
      "step 610 (epoch 5), loss 0.34\n",
      "step 620 (epoch 5), loss 0.32\n",
      "step 630 (epoch 5), loss 0.37\n",
      "step 640 (epoch 5), loss 0.35\n",
      "step 650 (epoch 5), loss 0.36\n",
      "step 660 (epoch 5), loss 0.31\n",
      "step 670 (epoch 5), loss 0.32\n",
      "step 680 (epoch 5), loss 0.37\n",
      "step 690 (epoch 5), loss 0.31\n",
      "step 700 (epoch 5), loss 0.38\n"
     ]
    },
    {
     "name": "stderr",
     "output_type": "stream",
     "text": [
      "Test accuray: 100%|██████████| 27/27 [00:02<00:00,  9.61it/s]\n"
     ]
    },
    {
     "name": "stdout",
     "output_type": "stream",
     "text": [
      "step 700 (epoch 5), test accuracy 91.29 loss 0.33\n",
      "step 710 (epoch 5), loss 0.32\n",
      "step 720 (epoch 5), loss 0.31\n",
      "step 730 (epoch 5), loss 0.30\n",
      "step 740 (epoch 6), loss 0.32\n",
      "step 750 (epoch 6), loss 0.31\n",
      "step 760 (epoch 6), loss 0.31\n",
      "step 770 (epoch 6), loss 0.28\n",
      "step 780 (epoch 6), loss 0.31\n",
      "step 790 (epoch 6), loss 0.32\n",
      "step 800 (epoch 6), loss 0.25\n"
     ]
    },
    {
     "name": "stderr",
     "output_type": "stream",
     "text": [
      "Test accuray: 100%|██████████| 27/27 [00:02<00:00,  9.82it/s]\n"
     ]
    },
    {
     "name": "stdout",
     "output_type": "stream",
     "text": [
      "step 800 (epoch 6), test accuracy 92.33 loss 0.30\n",
      "step 810 (epoch 6), loss 0.31\n",
      "step 820 (epoch 6), loss 0.31\n",
      "step 830 (epoch 6), loss 0.30\n",
      "step 840 (epoch 6), loss 0.26\n",
      "step 850 (epoch 6), loss 0.26\n",
      "step 860 (epoch 7), loss 0.26\n",
      "step 870 (epoch 7), loss 0.27\n",
      "step 880 (epoch 7), loss 0.30\n",
      "step 890 (epoch 7), loss 0.29\n",
      "step 900 (epoch 7), loss 0.26\n"
     ]
    },
    {
     "name": "stderr",
     "output_type": "stream",
     "text": [
      "Test accuray: 100%|██████████| 27/27 [00:02<00:00,  9.59it/s]\n"
     ]
    },
    {
     "name": "stdout",
     "output_type": "stream",
     "text": [
      "step 900 (epoch 7), test accuracy 93.84 loss 0.28\n",
      "step 910 (epoch 7), loss 0.29\n",
      "step 920 (epoch 7), loss 0.27\n",
      "step 930 (epoch 7), loss 0.30\n",
      "step 940 (epoch 7), loss 0.27\n",
      "step 950 (epoch 7), loss 0.21\n",
      "step 960 (epoch 7), loss 0.25\n",
      "step 970 (epoch 7), loss 0.24\n",
      "step 980 (epoch 8), loss 0.22\n",
      "step 990 (epoch 8), loss 0.23\n",
      "step 1000 (epoch 8), loss 0.28\n"
     ]
    },
    {
     "name": "stderr",
     "output_type": "stream",
     "text": [
      "Test accuray: 100%|██████████| 27/27 [00:02<00:00,  9.75it/s]\n"
     ]
    },
    {
     "name": "stdout",
     "output_type": "stream",
     "text": [
      "step 1000 (epoch 8), test accuracy 94.66 loss 0.26\n",
      "step 1010 (epoch 8), loss 0.26\n",
      "step 1020 (epoch 8), loss 0.21\n",
      "step 1030 (epoch 8), loss 0.26\n",
      "step 1040 (epoch 8), loss 0.20\n",
      "step 1050 (epoch 8), loss 0.28\n",
      "step 1060 (epoch 8), loss 0.24\n",
      "step 1070 (epoch 8), loss 0.28\n",
      "step 1080 (epoch 8), loss 0.22\n",
      "step 1090 (epoch 8), loss 0.23\n",
      "step 1100 (epoch 9), loss 0.22\n"
     ]
    },
    {
     "name": "stderr",
     "output_type": "stream",
     "text": [
      "Test accuray: 100%|██████████| 27/27 [00:02<00:00,  9.52it/s]\n"
     ]
    },
    {
     "name": "stdout",
     "output_type": "stream",
     "text": [
      "step 1100 (epoch 9), test accuracy 94.08 loss 0.25\n",
      "step 1110 (epoch 9), loss 0.22\n",
      "step 1120 (epoch 9), loss 0.21\n",
      "step 1130 (epoch 9), loss 0.31\n",
      "step 1140 (epoch 9), loss 0.21\n",
      "step 1150 (epoch 9), loss 0.22\n",
      "step 1160 (epoch 9), loss 0.20\n",
      "step 1170 (epoch 9), loss 0.23\n",
      "step 1180 (epoch 9), loss 0.22\n",
      "step 1190 (epoch 9), loss 0.23\n",
      "step 1200 (epoch 9), loss 0.21\n"
     ]
    },
    {
     "name": "stderr",
     "output_type": "stream",
     "text": [
      "Test accuray: 100%|██████████| 27/27 [00:03<00:00,  8.96it/s]\n"
     ]
    },
    {
     "name": "stdout",
     "output_type": "stream",
     "text": [
      "step 1200 (epoch 9), test accuracy 94.89 loss 0.24\n",
      "step 1210 (epoch 9), loss 0.27\n"
     ]
    }
   ],
   "source": [
    "# Training Loop\n",
    "step = 0\n",
    "\n",
    "for epoch in range(10):\n",
    "    for images, labels, images_pil in ds_train:\n",
    "        images, labels = images.to(device), torch.Tensor(labels).to(device).long()\n",
    "\n",
    "        # Debug: Save first batch for inspection\n",
    "        if step == 0:\n",
    "            grid = make_grid([T.ToTensor()(i) for i in images_pil], nrow=8, padding=2, normalize=True)\n",
    "            T.ToPILImage()(grid).save(\"zerobatch.jpg\")\n",
    "        \n",
    "        logits = model(images)\n",
    "        loss = nn.functional.cross_entropy(logits, labels)\n",
    "        loss.backward()\n",
    "        optimizer.step()\n",
    "        optimizer.zero_grad()\n",
    "    \n",
    "        if step % 10 == 0:\n",
    "            print(f\"step {step} (epoch {epoch}), loss {loss.item():.2f}\")\n",
    "        if step % 100 == 0:\n",
    "            model.eval()\n",
    "            test_acc, test_loss = test_accuracy(ds_test, model)\n",
    "            print(f\"step {step} (epoch {epoch}), test accuracy {test_acc:.2f} loss {test_loss:.2f}\")\n",
    "            model.train()\n",
    "    \n",
    "        step += 1\n",
    "        # break"
   ]
  },
  {
   "cell_type": "code",
   "execution_count": 9,
   "id": "e8529c73-bd7a-470b-8ed1-0689b5d7ef92",
   "metadata": {},
   "outputs": [],
   "source": [
    "torch.save(model.state_dict(), \"dino_v3_linear.pth\")"
   ]
  }
 ],
 "metadata": {
  "kernelspec": {
   "display_name": "Python 3 (ipykernel)",
   "language": "python",
   "name": "python3"
  },
  "language_info": {
   "codemirror_mode": {
    "name": "ipython",
    "version": 3
   },
   "file_extension": ".py",
   "mimetype": "text/x-python",
   "name": "python",
   "nbconvert_exporter": "python",
   "pygments_lexer": "ipython3",
   "version": "3.11.11"
  }
 },
 "nbformat": 4,
 "nbformat_minor": 5
}
