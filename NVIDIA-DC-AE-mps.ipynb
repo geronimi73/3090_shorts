{
 "cells": [
  {
   "cell_type": "code",
   "execution_count": 1,
   "id": "35273e69-f3b6-4823-ad3a-124b8af228da",
   "metadata": {},
   "outputs": [],
   "source": [
    "import torchvision.transforms as T\n",
    "import torch\n",
    "import os\n",
    "from PIL import Image\n",
    "\n",
    "def to_latent_and_back(filename, device=\"mps\"):\n",
    "    transform = T.Compose([\n",
    "        T.Resize(512, antialias=True),\n",
    "        # This will center crop to 512x512 from the resized image\n",
    "        T.CenterCrop(512),\n",
    "        T.ToTensor(),\n",
    "        T.Normalize((0.5, 0.5, 0.5), (0.5, 0.5, 0.5)),\n",
    "        lambda x: x.to(dtype=torch.float16)\n",
    "    ])\n",
    "    image = Image.open(filename)\n",
    "    image = transform(image)[None].to(device)\n",
    "    \n",
    "    # Encode and decode\n",
    "    latent = dc_ae.encode(image)\n",
    "    image_out = dc_ae.decode(latent.latent)\n",
    "\n",
    "    return [image * 0.5 + 0.5, image_out.sample * 0.5 + 0.5]\n",
    "\n",
    "def concatenate_images(image_paths, output_path):\n",
    "    images = [Image.open(image_path) for image_path in image_paths]\n",
    "    widths, heights = zip(*(i.size for i in images))\n",
    "\n",
    "    total_width = sum(widths)\n",
    "    max_height = max(heights)\n",
    "\n",
    "    new_image = Image.new('RGB', (total_width, max_height))\n",
    "\n",
    "    x_offset = 0\n",
    "    for image in images:\n",
    "        new_image.paste(image, (x_offset, 0))\n",
    "        x_offset += image.width\n",
    "\n",
    "    new_image.save(output_path)"
   ]
  },
  {
   "cell_type": "code",
   "execution_count": 2,
   "id": "0edf828a-be32-46de-8462-6aa7230701a5",
   "metadata": {},
   "outputs": [
    {
     "name": "stderr",
     "output_type": "stream",
     "text": [
      "/Library/Frameworks/Python.framework/Versions/3.12/lib/python3.12/site-packages/bitsandbytes/cextension.py:34: UserWarning: The installed version of bitsandbytes was compiled without GPU support. 8-bit optimizers, 8-bit multiplication, and GPU quantization are unavailable.\n",
      "  warn(\"The installed version of bitsandbytes was compiled without GPU support. \"\n"
     ]
    },
    {
     "name": "stdout",
     "output_type": "stream",
     "text": [
      "'NoneType' object has no attribute 'cadam32bit_grad_fp32'\n"
     ]
    }
   ],
   "source": [
    "from diffusers import AutoencoderDC\n",
    "\n",
    "device = \"mps\"\n",
    "dc_ae = AutoencoderDC.from_pretrained(\"mit-han-lab/dc-ae-f64c128-in-1.0-diffusers\", torch_dtype=torch.float16).to(device).eval()"
   ]
  },
  {
   "cell_type": "code",
   "execution_count": 4,
   "id": "bbf48908-e959-41ba-b043-efe0dfe474eb",
   "metadata": {},
   "outputs": [
    {
     "name": "stdout",
     "output_type": "stream",
     "text": [
      "bafkreicrlzkhyfldaa57g5cutelqakie2yot2mykr7wrabowmam3bznnoq.png\n",
      "bafkreieczeyp3ccd3rnt4jsahwlqxvxf4eicsbvzfhg2iwwufmxwl7f7b4.png\n",
      "bafkreied4rpb2ef2r6btzqqrjksfgwaylcpliivpoxy6sfg6xu767qwouq.png\n",
      "bafkreidciyfpf43nnh5qqskflxtpnvcqjqs4myjuvgybohxmtdujrlr36m.jpg\n",
      "bafkreiakrdiro2y2q4adb6yxks777fbbpv2dppfzi57l5sbizz24qetsna.jpg\n",
      "bafkreicwgvjwdxgxt3awgnf7psmavhfpy2hebeaqzsuc7efdn4fdh2jto4.jpg\n",
      "bafkreihwgl3mrmcvpz2xa6njkv4qjr2yhy3wyniy4r3i3pmvmwnwffbdkq.png\n",
      "bafkreiez2thdzw5eti7l7guqdw7mjn63jgebqlxtzsiy2ldqgg3whlbyjm.png\n",
      "bafkreid2ljsslwvqaa64nva4q4sowdp72mtdvjdj63amiifcauf7rmcu6q.png\n"
     ]
    }
   ],
   "source": [
    "import os\n",
    "from torchvision.utils import save_image\n",
    "\n",
    "inputs_path, output_path, outputgall_path = \"./inputs\", \"./output\", \"./output_galleries\"\n",
    "\n",
    "for directory in [output_path, outputgall_path]:\n",
    "    if not os.path.exists(directory): os.makedirs(directory)\n",
    "\n",
    "for image_filename in os.listdir(inputs_path):\n",
    "    print(image_filename)\n",
    "    input_transformed, latent_decoded = to_latent_and_back(inputs_path + \"/\" + image_filename, device)\n",
    "    base_path, ext = os.path.splitext(image_filename)\n",
    "    save_image(input_transformed, f\"{output_path}/{base_path}_input{ext}\")\n",
    "    save_image(latent_decoded, f\"{output_path}/{base_path}_decoded{ext}\")\n",
    "    concatenate_images([f\"{output_path}/{base_path}_input{ext}\", f\"{output_path}/{base_path}_decoded{ext}\"],f\"{outputgall_path}/{base_path}_gallery{ext}\")\n"
   ]
  }
 ],
 "metadata": {
  "kernelspec": {
   "display_name": "Python 3 (ipykernel)",
   "language": "python",
   "name": "python3"
  },
  "language_info": {
   "codemirror_mode": {
    "name": "ipython",
    "version": 3
   },
   "file_extension": ".py",
   "mimetype": "text/x-python",
   "name": "python",
   "nbconvert_exporter": "python",
   "pygments_lexer": "ipython3",
   "version": "3.12.4"
  }
 },
 "nbformat": 4,
 "nbformat_minor": 5
}
